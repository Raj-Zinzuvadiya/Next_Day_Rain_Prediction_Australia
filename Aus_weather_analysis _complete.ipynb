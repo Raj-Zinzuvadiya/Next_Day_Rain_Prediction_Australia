{
  "nbformat": 4,
  "nbformat_minor": 2,
  "metadata": {
    "kernelspec": {
      "name": "python3",
      "display_name": "Python 3.9.7 64-bit"
    },
    "language_info": {
      "codemirror_mode": {
        "name": "ipython",
        "version": 3
      },
      "file_extension": ".py",
      "mimetype": "text/x-python",
      "name": "python",
      "nbconvert_exporter": "python",
      "pygments_lexer": "ipython3",
      "version": "3.9.7"
    },
    "interpreter": {
      "hash": "a3949659082f76c3dce9af69e66ef5cf512c1e4dc52678c6ac146f322361f8d5"
    },
    "colab": {
      "name": "Aus_weather_analysis.ipynb",
      "provenance": [],
      "collapsed_sections": [
        "9uq8j593EIXi",
        "Fj35T4DeEIXk",
        "cDXU03spEIXo",
        "h6Hj61ElEIXq",
        "kZhsbCB7EIXq",
        "IS6McFL8EIXr",
        "yTismiN-EIXs",
        "R_-QVGQZEIXt",
        "AV7BkA5mEIXt",
        "asU7zq5oEIXt",
        "7MK2nOopEIXu",
        "qg7J29xgEIXu",
        "XLd_D5PrEIXv"
      ]
    }
  },
  "cells": [
    {
      "cell_type": "markdown",
      "source": [
        "# Imports"
      ],
      "metadata": {}
    },
    {
      "cell_type": "code",
      "execution_count": 12,
      "source": [
        "import numpy as np\r\n",
        "import pandas as pd\r\n",
        "import matplotlib.pyplot as plt\r\n",
        "import seaborn as sns\r\n",
        "from sklearn import preprocessing\r\n",
        "from sklearn.model_selection import train_test_split\r\n",
        "from sklearn.tree import DecisionTreeClassifier\r\n",
        "\r\n",
        "from sklearn.ensemble import RandomForestClassifier\r\n",
        "from sklearn.metrics import accuracy_score,confusion_matrix\r\n",
        "from sklearn import svm\r\n",
        "from sklearn.linear_model import LogisticRegression\r\n",
        "from sklearn.neighbors import KNeighborsClassifier\r\n",
        "import copy\r\n",
        "import pickle\r\n",
        "\r\n",
        "\"\"\"\r\n",
        "    Max accuracy get with Random Forest\r\n",
        "\r\n",
        "\"\"\""
      ],
      "outputs": [
        {
          "output_type": "execute_result",
          "data": {
            "text/plain": [
              "'\\n    Max accuracy get with Random Forest\\n\\n'"
            ]
          },
          "metadata": {},
          "execution_count": 12
        }
      ],
      "metadata": {
        "id": "z12yg9s3EIXb"
      }
    },
    {
      "cell_type": "code",
      "execution_count": 8,
      "source": [
        "sklearn.accuracy"
      ],
      "outputs": [
        {
          "output_type": "error",
          "ename": "NameError",
          "evalue": "name 'sklearn' is not defined",
          "traceback": [
            "\u001b[1;31m---------------------------------------------------------------------------\u001b[0m",
            "\u001b[1;31mNameError\u001b[0m                                 Traceback (most recent call last)",
            "\u001b[1;32m~\\AppData\\Local\\Temp/ipykernel_2040/480310527.py\u001b[0m in \u001b[0;36m<module>\u001b[1;34m\u001b[0m\n\u001b[1;32m----> 1\u001b[1;33m \u001b[0msklearn\u001b[0m\u001b[1;33m.\u001b[0m\u001b[0maccuracy\u001b[0m\u001b[1;33m\u001b[0m\u001b[1;33m\u001b[0m\u001b[0m\n\u001b[0m",
            "\u001b[1;31mNameError\u001b[0m: name 'sklearn' is not defined"
          ]
        }
      ],
      "metadata": {}
    },
    {
      "cell_type": "markdown",
      "source": [
        "# File Reading"
      ],
      "metadata": {}
    },
    {
      "cell_type": "code",
      "execution_count": 15,
      "source": [
        "df = pd.read_csv(\"weatherAUS.csv\", na_values=['Na',np.nan,'nan',\"N/a\",\"na\",\"Temp9am\"])\r\n",
        "df.head()"
      ],
      "outputs": [
        {
          "output_type": "execute_result",
          "data": {
            "text/html": [
              "<div>\n",
              "<style scoped>\n",
              "    .dataframe tbody tr th:only-of-type {\n",
              "        vertical-align: middle;\n",
              "    }\n",
              "\n",
              "    .dataframe tbody tr th {\n",
              "        vertical-align: top;\n",
              "    }\n",
              "\n",
              "    .dataframe thead th {\n",
              "        text-align: right;\n",
              "    }\n",
              "</style>\n",
              "<table border=\"1\" class=\"dataframe\">\n",
              "  <thead>\n",
              "    <tr style=\"text-align: right;\">\n",
              "      <th></th>\n",
              "      <th>Date</th>\n",
              "      <th>Location</th>\n",
              "      <th>MinTemp</th>\n",
              "      <th>MaxTemp</th>\n",
              "      <th>Rainfall</th>\n",
              "      <th>Evaporation</th>\n",
              "      <th>Sunshine</th>\n",
              "      <th>WindGustDir</th>\n",
              "      <th>WindGustSpeed</th>\n",
              "      <th>WindDir9am</th>\n",
              "      <th>...</th>\n",
              "      <th>Humidity9am</th>\n",
              "      <th>Humidity3pm</th>\n",
              "      <th>Pressure9am</th>\n",
              "      <th>Pressure3pm</th>\n",
              "      <th>Cloud9am</th>\n",
              "      <th>Cloud3pm</th>\n",
              "      <th>Temp9am</th>\n",
              "      <th>Temp3pm</th>\n",
              "      <th>RainToday</th>\n",
              "      <th>RainTomorrow</th>\n",
              "    </tr>\n",
              "  </thead>\n",
              "  <tbody>\n",
              "    <tr>\n",
              "      <th>0</th>\n",
              "      <td>2008-12-01</td>\n",
              "      <td>Albury</td>\n",
              "      <td>13.4</td>\n",
              "      <td>22.9</td>\n",
              "      <td>0.6</td>\n",
              "      <td>NaN</td>\n",
              "      <td>NaN</td>\n",
              "      <td>W</td>\n",
              "      <td>44.0</td>\n",
              "      <td>W</td>\n",
              "      <td>...</td>\n",
              "      <td>71.0</td>\n",
              "      <td>22.0</td>\n",
              "      <td>1007.7</td>\n",
              "      <td>1007.1</td>\n",
              "      <td>8.0</td>\n",
              "      <td>NaN</td>\n",
              "      <td>16.9</td>\n",
              "      <td>21.8</td>\n",
              "      <td>No</td>\n",
              "      <td>No</td>\n",
              "    </tr>\n",
              "    <tr>\n",
              "      <th>1</th>\n",
              "      <td>2008-12-02</td>\n",
              "      <td>Albury</td>\n",
              "      <td>7.4</td>\n",
              "      <td>25.1</td>\n",
              "      <td>0.0</td>\n",
              "      <td>NaN</td>\n",
              "      <td>NaN</td>\n",
              "      <td>WNW</td>\n",
              "      <td>44.0</td>\n",
              "      <td>NNW</td>\n",
              "      <td>...</td>\n",
              "      <td>44.0</td>\n",
              "      <td>25.0</td>\n",
              "      <td>1010.6</td>\n",
              "      <td>1007.8</td>\n",
              "      <td>NaN</td>\n",
              "      <td>NaN</td>\n",
              "      <td>17.2</td>\n",
              "      <td>24.3</td>\n",
              "      <td>No</td>\n",
              "      <td>No</td>\n",
              "    </tr>\n",
              "    <tr>\n",
              "      <th>2</th>\n",
              "      <td>2008-12-03</td>\n",
              "      <td>Albury</td>\n",
              "      <td>12.9</td>\n",
              "      <td>25.7</td>\n",
              "      <td>0.0</td>\n",
              "      <td>NaN</td>\n",
              "      <td>NaN</td>\n",
              "      <td>WSW</td>\n",
              "      <td>46.0</td>\n",
              "      <td>W</td>\n",
              "      <td>...</td>\n",
              "      <td>38.0</td>\n",
              "      <td>30.0</td>\n",
              "      <td>1007.6</td>\n",
              "      <td>1008.7</td>\n",
              "      <td>NaN</td>\n",
              "      <td>2.0</td>\n",
              "      <td>21.0</td>\n",
              "      <td>23.2</td>\n",
              "      <td>No</td>\n",
              "      <td>No</td>\n",
              "    </tr>\n",
              "    <tr>\n",
              "      <th>3</th>\n",
              "      <td>2008-12-04</td>\n",
              "      <td>Albury</td>\n",
              "      <td>9.2</td>\n",
              "      <td>28.0</td>\n",
              "      <td>0.0</td>\n",
              "      <td>NaN</td>\n",
              "      <td>NaN</td>\n",
              "      <td>NE</td>\n",
              "      <td>24.0</td>\n",
              "      <td>SE</td>\n",
              "      <td>...</td>\n",
              "      <td>45.0</td>\n",
              "      <td>16.0</td>\n",
              "      <td>1017.6</td>\n",
              "      <td>1012.8</td>\n",
              "      <td>NaN</td>\n",
              "      <td>NaN</td>\n",
              "      <td>18.1</td>\n",
              "      <td>26.5</td>\n",
              "      <td>No</td>\n",
              "      <td>No</td>\n",
              "    </tr>\n",
              "    <tr>\n",
              "      <th>4</th>\n",
              "      <td>2008-12-05</td>\n",
              "      <td>Albury</td>\n",
              "      <td>17.5</td>\n",
              "      <td>32.3</td>\n",
              "      <td>1.0</td>\n",
              "      <td>NaN</td>\n",
              "      <td>NaN</td>\n",
              "      <td>W</td>\n",
              "      <td>41.0</td>\n",
              "      <td>ENE</td>\n",
              "      <td>...</td>\n",
              "      <td>82.0</td>\n",
              "      <td>33.0</td>\n",
              "      <td>1010.8</td>\n",
              "      <td>1006.0</td>\n",
              "      <td>7.0</td>\n",
              "      <td>8.0</td>\n",
              "      <td>17.8</td>\n",
              "      <td>29.7</td>\n",
              "      <td>No</td>\n",
              "      <td>No</td>\n",
              "    </tr>\n",
              "  </tbody>\n",
              "</table>\n",
              "<p>5 rows × 23 columns</p>\n",
              "</div>"
            ],
            "text/plain": [
              "         Date Location  MinTemp  MaxTemp  Rainfall  Evaporation  Sunshine  \\\n",
              "0  2008-12-01   Albury     13.4     22.9       0.6          NaN       NaN   \n",
              "1  2008-12-02   Albury      7.4     25.1       0.0          NaN       NaN   \n",
              "2  2008-12-03   Albury     12.9     25.7       0.0          NaN       NaN   \n",
              "3  2008-12-04   Albury      9.2     28.0       0.0          NaN       NaN   \n",
              "4  2008-12-05   Albury     17.5     32.3       1.0          NaN       NaN   \n",
              "\n",
              "  WindGustDir  WindGustSpeed WindDir9am  ... Humidity9am  Humidity3pm  \\\n",
              "0           W           44.0          W  ...        71.0         22.0   \n",
              "1         WNW           44.0        NNW  ...        44.0         25.0   \n",
              "2         WSW           46.0          W  ...        38.0         30.0   \n",
              "3          NE           24.0         SE  ...        45.0         16.0   \n",
              "4           W           41.0        ENE  ...        82.0         33.0   \n",
              "\n",
              "   Pressure9am  Pressure3pm  Cloud9am  Cloud3pm  Temp9am  Temp3pm  RainToday  \\\n",
              "0       1007.7       1007.1       8.0       NaN     16.9     21.8         No   \n",
              "1       1010.6       1007.8       NaN       NaN     17.2     24.3         No   \n",
              "2       1007.6       1008.7       NaN       2.0     21.0     23.2         No   \n",
              "3       1017.6       1012.8       NaN       NaN     18.1     26.5         No   \n",
              "4       1010.8       1006.0       7.0       8.0     17.8     29.7         No   \n",
              "\n",
              "   RainTomorrow  \n",
              "0            No  \n",
              "1            No  \n",
              "2            No  \n",
              "3            No  \n",
              "4            No  \n",
              "\n",
              "[5 rows x 23 columns]"
            ]
          },
          "metadata": {},
          "execution_count": 15
        }
      ],
      "metadata": {
        "colab": {
          "base_uri": "https://localhost:8080/",
          "height": 309
        },
        "id": "t5IyE441EIXf",
        "outputId": "5187fe49-ee42-487c-a693-ab5ff2472dfd"
      }
    },
    {
      "cell_type": "code",
      "execution_count": 16,
      "source": [
        "print(\"Shape:\", df.shape)\r\n",
        "df.isnull().sum()"
      ],
      "outputs": [
        {
          "output_type": "stream",
          "name": "stdout",
          "text": [
            "Shape: (145460, 23)\n"
          ]
        },
        {
          "output_type": "execute_result",
          "data": {
            "text/plain": [
              "Date                 0\n",
              "Location             0\n",
              "MinTemp           1485\n",
              "MaxTemp           1261\n",
              "Rainfall          3261\n",
              "Evaporation      62790\n",
              "Sunshine         69835\n",
              "WindGustDir      10326\n",
              "WindGustSpeed    10263\n",
              "WindDir9am       10566\n",
              "WindDir3pm        4228\n",
              "WindSpeed9am      1767\n",
              "WindSpeed3pm      3062\n",
              "Humidity9am       2654\n",
              "Humidity3pm       4507\n",
              "Pressure9am      15065\n",
              "Pressure3pm      15028\n",
              "Cloud9am         55888\n",
              "Cloud3pm         59358\n",
              "Temp9am           1767\n",
              "Temp3pm           3609\n",
              "RainToday         3261\n",
              "RainTomorrow      3267\n",
              "dtype: int64"
            ]
          },
          "metadata": {},
          "execution_count": 16
        }
      ],
      "metadata": {
        "colab": {
          "base_uri": "https://localhost:8080/"
        },
        "id": "wbcfmz1pEIXg",
        "outputId": "743e51f7-ef84-406d-8041-e828e1fabbb6"
      }
    },
    {
      "cell_type": "markdown",
      "source": [
        "# Data Cleaning"
      ],
      "metadata": {
        "id": "9uq8j593EIXi"
      }
    },
    {
      "cell_type": "code",
      "execution_count": 17,
      "source": [
        "df.drop(columns=['Evaporation','Sunshine','Date','Location'], inplace=True)"
      ],
      "outputs": [],
      "metadata": {
        "id": "8thh7jDXEIXj"
      }
    },
    {
      "cell_type": "code",
      "execution_count": 18,
      "source": [
        "df.head()"
      ],
      "outputs": [
        {
          "output_type": "execute_result",
          "data": {
            "text/html": [
              "<div>\n",
              "<style scoped>\n",
              "    .dataframe tbody tr th:only-of-type {\n",
              "        vertical-align: middle;\n",
              "    }\n",
              "\n",
              "    .dataframe tbody tr th {\n",
              "        vertical-align: top;\n",
              "    }\n",
              "\n",
              "    .dataframe thead th {\n",
              "        text-align: right;\n",
              "    }\n",
              "</style>\n",
              "<table border=\"1\" class=\"dataframe\">\n",
              "  <thead>\n",
              "    <tr style=\"text-align: right;\">\n",
              "      <th></th>\n",
              "      <th>MinTemp</th>\n",
              "      <th>MaxTemp</th>\n",
              "      <th>Rainfall</th>\n",
              "      <th>WindGustDir</th>\n",
              "      <th>WindGustSpeed</th>\n",
              "      <th>WindDir9am</th>\n",
              "      <th>WindDir3pm</th>\n",
              "      <th>WindSpeed9am</th>\n",
              "      <th>WindSpeed3pm</th>\n",
              "      <th>Humidity9am</th>\n",
              "      <th>Humidity3pm</th>\n",
              "      <th>Pressure9am</th>\n",
              "      <th>Pressure3pm</th>\n",
              "      <th>Cloud9am</th>\n",
              "      <th>Cloud3pm</th>\n",
              "      <th>Temp9am</th>\n",
              "      <th>Temp3pm</th>\n",
              "      <th>RainToday</th>\n",
              "      <th>RainTomorrow</th>\n",
              "    </tr>\n",
              "  </thead>\n",
              "  <tbody>\n",
              "    <tr>\n",
              "      <th>0</th>\n",
              "      <td>13.4</td>\n",
              "      <td>22.9</td>\n",
              "      <td>0.6</td>\n",
              "      <td>W</td>\n",
              "      <td>44.0</td>\n",
              "      <td>W</td>\n",
              "      <td>WNW</td>\n",
              "      <td>20.0</td>\n",
              "      <td>24.0</td>\n",
              "      <td>71.0</td>\n",
              "      <td>22.0</td>\n",
              "      <td>1007.7</td>\n",
              "      <td>1007.1</td>\n",
              "      <td>8.0</td>\n",
              "      <td>NaN</td>\n",
              "      <td>16.9</td>\n",
              "      <td>21.8</td>\n",
              "      <td>No</td>\n",
              "      <td>No</td>\n",
              "    </tr>\n",
              "    <tr>\n",
              "      <th>1</th>\n",
              "      <td>7.4</td>\n",
              "      <td>25.1</td>\n",
              "      <td>0.0</td>\n",
              "      <td>WNW</td>\n",
              "      <td>44.0</td>\n",
              "      <td>NNW</td>\n",
              "      <td>WSW</td>\n",
              "      <td>4.0</td>\n",
              "      <td>22.0</td>\n",
              "      <td>44.0</td>\n",
              "      <td>25.0</td>\n",
              "      <td>1010.6</td>\n",
              "      <td>1007.8</td>\n",
              "      <td>NaN</td>\n",
              "      <td>NaN</td>\n",
              "      <td>17.2</td>\n",
              "      <td>24.3</td>\n",
              "      <td>No</td>\n",
              "      <td>No</td>\n",
              "    </tr>\n",
              "    <tr>\n",
              "      <th>2</th>\n",
              "      <td>12.9</td>\n",
              "      <td>25.7</td>\n",
              "      <td>0.0</td>\n",
              "      <td>WSW</td>\n",
              "      <td>46.0</td>\n",
              "      <td>W</td>\n",
              "      <td>WSW</td>\n",
              "      <td>19.0</td>\n",
              "      <td>26.0</td>\n",
              "      <td>38.0</td>\n",
              "      <td>30.0</td>\n",
              "      <td>1007.6</td>\n",
              "      <td>1008.7</td>\n",
              "      <td>NaN</td>\n",
              "      <td>2.0</td>\n",
              "      <td>21.0</td>\n",
              "      <td>23.2</td>\n",
              "      <td>No</td>\n",
              "      <td>No</td>\n",
              "    </tr>\n",
              "    <tr>\n",
              "      <th>3</th>\n",
              "      <td>9.2</td>\n",
              "      <td>28.0</td>\n",
              "      <td>0.0</td>\n",
              "      <td>NE</td>\n",
              "      <td>24.0</td>\n",
              "      <td>SE</td>\n",
              "      <td>E</td>\n",
              "      <td>11.0</td>\n",
              "      <td>9.0</td>\n",
              "      <td>45.0</td>\n",
              "      <td>16.0</td>\n",
              "      <td>1017.6</td>\n",
              "      <td>1012.8</td>\n",
              "      <td>NaN</td>\n",
              "      <td>NaN</td>\n",
              "      <td>18.1</td>\n",
              "      <td>26.5</td>\n",
              "      <td>No</td>\n",
              "      <td>No</td>\n",
              "    </tr>\n",
              "    <tr>\n",
              "      <th>4</th>\n",
              "      <td>17.5</td>\n",
              "      <td>32.3</td>\n",
              "      <td>1.0</td>\n",
              "      <td>W</td>\n",
              "      <td>41.0</td>\n",
              "      <td>ENE</td>\n",
              "      <td>NW</td>\n",
              "      <td>7.0</td>\n",
              "      <td>20.0</td>\n",
              "      <td>82.0</td>\n",
              "      <td>33.0</td>\n",
              "      <td>1010.8</td>\n",
              "      <td>1006.0</td>\n",
              "      <td>7.0</td>\n",
              "      <td>8.0</td>\n",
              "      <td>17.8</td>\n",
              "      <td>29.7</td>\n",
              "      <td>No</td>\n",
              "      <td>No</td>\n",
              "    </tr>\n",
              "  </tbody>\n",
              "</table>\n",
              "</div>"
            ],
            "text/plain": [
              "   MinTemp  MaxTemp  Rainfall WindGustDir  WindGustSpeed WindDir9am  \\\n",
              "0     13.4     22.9       0.6           W           44.0          W   \n",
              "1      7.4     25.1       0.0         WNW           44.0        NNW   \n",
              "2     12.9     25.7       0.0         WSW           46.0          W   \n",
              "3      9.2     28.0       0.0          NE           24.0         SE   \n",
              "4     17.5     32.3       1.0           W           41.0        ENE   \n",
              "\n",
              "  WindDir3pm  WindSpeed9am  WindSpeed3pm  Humidity9am  Humidity3pm  \\\n",
              "0        WNW          20.0          24.0         71.0         22.0   \n",
              "1        WSW           4.0          22.0         44.0         25.0   \n",
              "2        WSW          19.0          26.0         38.0         30.0   \n",
              "3          E          11.0           9.0         45.0         16.0   \n",
              "4         NW           7.0          20.0         82.0         33.0   \n",
              "\n",
              "   Pressure9am  Pressure3pm  Cloud9am  Cloud3pm  Temp9am  Temp3pm RainToday  \\\n",
              "0       1007.7       1007.1       8.0       NaN     16.9     21.8        No   \n",
              "1       1010.6       1007.8       NaN       NaN     17.2     24.3        No   \n",
              "2       1007.6       1008.7       NaN       2.0     21.0     23.2        No   \n",
              "3       1017.6       1012.8       NaN       NaN     18.1     26.5        No   \n",
              "4       1010.8       1006.0       7.0       8.0     17.8     29.7        No   \n",
              "\n",
              "  RainTomorrow  \n",
              "0           No  \n",
              "1           No  \n",
              "2           No  \n",
              "3           No  \n",
              "4           No  "
            ]
          },
          "metadata": {},
          "execution_count": 18
        }
      ],
      "metadata": {
        "colab": {
          "base_uri": "https://localhost:8080/",
          "height": 0
        },
        "id": "nyS1Tf6YEIXk",
        "outputId": "4faa981e-bfa1-4fa5-d7d5-70adebdca4a3"
      }
    },
    {
      "cell_type": "code",
      "execution_count": 19,
      "source": [
        "## Removing null value in target class\r\n",
        "df.dropna(subset= ['RainTomorrow'], inplace =True)"
      ],
      "outputs": [],
      "metadata": {
        "id": "b71VHiIgEIXl"
      }
    },
    {
      "cell_type": "code",
      "execution_count": 20,
      "source": [
        "def findIQR(data):\r\n",
        "  \r\n",
        "  q1 = np.percentile(data,[25])\r\n",
        "  q3 = np.percentile(data,[75])\r\n",
        "  \r\n",
        "  q1 = q1[0]\r\n",
        "  q3 = q3[0]\r\n",
        "\r\n",
        "  iqr = q3 - q1\r\n",
        "\r\n",
        "  lower = q1 - (iqr*1.5)\r\n",
        "  upper = q3 + (iqr*1.5)\r\n",
        "    \r\n",
        "  return np.round(lower),np.round(upper)\r\n",
        "    "
      ],
      "outputs": [],
      "metadata": {
        "id": "1NXsR6_HEIXm"
      }
    },
    {
      "cell_type": "code",
      "execution_count": 21,
      "source": [
        "def avgvalue(df,x,lower,upper):\r\n",
        "    '''\r\n",
        "        This function will find and return mean values of both RainTommorow==Yes and RainTommorow==NO\r\n",
        "    '''\r\n",
        "    temp = df[(df[x].isna()==False)][x]\r\n",
        "    temp = temp[((temp>= lower) & (temp<=upper))]\r\n",
        "    \r\n",
        "    return np.mean(temp)\r\n",
        "    \r\n",
        "    "
      ],
      "outputs": [],
      "metadata": {
        "id": "ENjV6QEQEIXn"
      }
    },
    {
      "cell_type": "code",
      "execution_count": 22,
      "source": [
        "def filloutlier(col,lower,upper,mean):\r\n",
        "\r\n",
        "  if col<=lower or col>=upper:\r\n",
        "    return mean\r\n",
        "  return col\r\n",
        "\r\n"
      ],
      "outputs": [],
      "metadata": {
        "id": "mxLmCjlvsYfk"
      }
    },
    {
      "cell_type": "code",
      "execution_count": 23,
      "source": [
        "x = 'MinTemp'\r\n",
        "lower, upper = findIQR(df[df[x].isna()==False][x])\r\n",
        "print(\"lower: \",lower,\"upper: \",upper)\r\n",
        "mean= avgvalue(df[df[x].isna()==False],x,lower,upper)\r\n",
        "print(\"Actual Mean:\",mean)\r\n",
        "df[x].fillna(mean,inplace = True)\r\n",
        "df[x] = df[x].apply(filloutlier,args=[lower,upper,mean])\r\n",
        "sns.boxplot(df[x])\r\n",
        "\r\n"
      ],
      "outputs": [
        {
          "output_type": "stream",
          "name": "stdout",
          "text": [
            "lower:  -6.0 upper:  31.0\n",
            "Actual Mean: 12.193731579579751\n"
          ]
        },
        {
          "output_type": "stream",
          "name": "stderr",
          "text": [
            "C:\\Users\\lenovo\\AppData\\Local\\Programs\\Python\\Python39\\lib\\site-packages\\seaborn\\_decorators.py:36: FutureWarning: Pass the following variable as a keyword arg: x. From version 0.12, the only valid positional argument will be `data`, and passing other arguments without an explicit keyword will result in an error or misinterpretation.\n",
            "  warnings.warn(\n"
          ]
        },
        {
          "output_type": "execute_result",
          "data": {
            "text/plain": [
              "<AxesSubplot:xlabel='MinTemp'>"
            ]
          },
          "metadata": {},
          "execution_count": 23
        },
        {
          "output_type": "display_data",
          "data": {
            "image/png": "[encoded data removed]",
            "text/plain": [
              "<Figure size 432x288 with 1 Axes>"
            ]
          },
          "metadata": {
            "needs_background": "light"
          }
        }
      ],
      "metadata": {
        "colab": {
          "base_uri": "https://localhost:8080/",
          "height": 0
        },
        "id": "PwBrdn7oEIXo",
        "outputId": "c1fbe9ba-524c-4f3a-9929-a53a6c6769d0"
      }
    },
    {
      "cell_type": "markdown",
      "source": [
        "# MaxTemp"
      ],
      "metadata": {
        "id": "cDXU03spEIXo"
      }
    },
    {
      "cell_type": "code",
      "execution_count": 24,
      "source": [
        "x  = \"MaxTemp\"\r\n",
        "lower, upper = findIQR(df[df[x].isna()==False][x])\r\n",
        "print(\"lower: \",lower,\"upper: \",upper)\r\n",
        "mean= avgvalue(df[df[x].isna()==False],x,lower,upper)\r\n",
        "print(\"Actual Mean:\",mean)\r\n",
        "df[x].fillna(mean,inplace = True)\r\n",
        "df[x] = df[x].apply(filloutlier,args=[lower,upper,mean])\r\n",
        "sns.boxplot(df[x])\r\n",
        "\r\n",
        "\r\n"
      ],
      "outputs": [
        {
          "output_type": "stream",
          "name": "stdout",
          "text": [
            "lower:  2.0 upper:  44.0\n",
            "Actual Mean: 23.248732535705955\n"
          ]
        },
        {
          "output_type": "stream",
          "name": "stderr",
          "text": [
            "C:\\Users\\lenovo\\AppData\\Local\\Programs\\Python\\Python39\\lib\\site-packages\\seaborn\\_decorators.py:36: FutureWarning: Pass the following variable as a keyword arg: x. From version 0.12, the only valid positional argument will be `data`, and passing other arguments without an explicit keyword will result in an error or misinterpretation.\n",
            "  warnings.warn(\n"
          ]
        },
        {
          "output_type": "execute_result",
          "data": {
            "text/plain": [
              "<AxesSubplot:xlabel='MaxTemp'>"
            ]
          },
          "metadata": {},
          "execution_count": 24
        },
        {
          "output_type": "display_data",
          "data": {
            "image/png": "[encoded data removed]",
            "text/plain": [
              "<Figure size 432x288 with 1 Axes>"
            ]
          },
          "metadata": {
            "needs_background": "light"
          }
        }
      ],
      "metadata": {
        "colab": {
          "base_uri": "https://localhost:8080/",
          "height": 0
        },
        "id": "Jq9E7FyPEIXp",
        "outputId": "db374175-3ccf-43ee-a8d4-da89b0b0c2e3"
      }
    },
    {
      "cell_type": "markdown",
      "source": [
        "# Rainfall"
      ],
      "metadata": {
        "id": "9bQ6O849EIXp"
      }
    },
    {
      "cell_type": "code",
      "execution_count": 25,
      "source": [
        "x = \"Rainfall\"\r\n",
        "lower, upper = findIQR(df[df[x].isna()==False][x])\r\n",
        "print(\"lower: \",lower,\"upper: \",upper)\r\n",
        "mean= avgvalue(df[df[x].isna()==False],x,lower,upper)\r\n",
        "print(\"Actual Mean:\",mean)\r\n",
        "df[x].fillna(mean,inplace = True)\r\n",
        "df[x] = df[x].apply(filloutlier,args=[lower,upper,mean])\r\n",
        "sns.boxplot(df[x])\r\n",
        "\r\n",
        "\r\n"
      ],
      "outputs": [
        {
          "output_type": "stream",
          "name": "stdout",
          "text": [
            "lower:  -1.0 upper:  2.0\n",
            "Actual Mean: 0.15513720264107508\n"
          ]
        },
        {
          "output_type": "stream",
          "name": "stderr",
          "text": [
            "C:\\Users\\lenovo\\AppData\\Local\\Programs\\Python\\Python39\\lib\\site-packages\\seaborn\\_decorators.py:36: FutureWarning: Pass the following variable as a keyword arg: x. From version 0.12, the only valid positional argument will be `data`, and passing other arguments without an explicit keyword will result in an error or misinterpretation.\n",
            "  warnings.warn(\n"
          ]
        },
        {
          "output_type": "execute_result",
          "data": {
            "text/plain": [
              "<AxesSubplot:xlabel='Rainfall'>"
            ]
          },
          "metadata": {},
          "execution_count": 25
        },
        {
          "output_type": "display_data",
          "data": {
            "image/png": "[encoded data removed]",
            "text/plain": [
              "<Figure size 432x288 with 1 Axes>"
            ]
          },
          "metadata": {
            "needs_background": "light"
          }
        }
      ],
      "metadata": {
        "colab": {
          "base_uri": "https://localhost:8080/",
          "height": 380
        },
        "id": "ocPU0c2DEIXp",
        "outputId": "06805d7c-887f-40c0-bdca-6eb5aa6b0467"
      }
    },
    {
      "cell_type": "markdown",
      "source": [
        "# WindGustSpeed"
      ],
      "metadata": {
        "id": "h6Hj61ElEIXq"
      }
    },
    {
      "cell_type": "code",
      "execution_count": 26,
      "source": [
        "x  = \"WindGustSpeed\"\r\n",
        "lower, upper = findIQR(df[df[x].isna()==False][x])\r\n",
        "print(\"lower: \",lower,\"upper: \",upper)\r\n",
        "mean= avgvalue(df[df[x].isna()==False],x,lower,upper)\r\n",
        "print(\"Actual Mean:\",mean)\r\n",
        "df[x].fillna(mean,inplace = True)\r\n",
        "df[x] = df[x].apply(filloutlier,args=[lower,upper,mean])\r\n",
        "sns.boxplot(df[x])\r\n",
        "\r\n",
        "\r\n",
        "\r\n"
      ],
      "outputs": [
        {
          "output_type": "stream",
          "name": "stdout",
          "text": [
            "lower:  6.0 upper:  74.0\n",
            "Actual Mean: 39.148707805300646\n"
          ]
        },
        {
          "output_type": "stream",
          "name": "stderr",
          "text": [
            "C:\\Users\\lenovo\\AppData\\Local\\Programs\\Python\\Python39\\lib\\site-packages\\seaborn\\_decorators.py:36: FutureWarning: Pass the following variable as a keyword arg: x. From version 0.12, the only valid positional argument will be `data`, and passing other arguments without an explicit keyword will result in an error or misinterpretation.\n",
            "  warnings.warn(\n"
          ]
        },
        {
          "output_type": "execute_result",
          "data": {
            "text/plain": [
              "<AxesSubplot:xlabel='WindGustSpeed'>"
            ]
          },
          "metadata": {},
          "execution_count": 26
        },
        {
          "output_type": "display_data",
          "data": {
            "image/png": "[encoded data removed]",
            "text/plain": [
              "<Figure size 432x288 with 1 Axes>"
            ]
          },
          "metadata": {
            "needs_background": "light"
          }
        }
      ],
      "metadata": {
        "colab": {
          "base_uri": "https://localhost:8080/",
          "height": 0
        },
        "id": "lrdvIxwpEIXq",
        "outputId": "b6dc8326-cff0-40d8-fa7a-ff9c411c5b70"
      }
    },
    {
      "cell_type": "markdown",
      "source": [
        "# WindSpeed9am"
      ],
      "metadata": {
        "id": "kZhsbCB7EIXq"
      }
    },
    {
      "cell_type": "code",
      "execution_count": 27,
      "source": [
        "x  = \"WindSpeed9am\"\r\n",
        "lower, upper = findIQR(df[df[x].isna()==False][x])\r\n",
        "print(\"lower: \",lower,\"upper: \",upper)\r\n",
        "mean= avgvalue(df[df[x].isna()==False],x,lower,upper)\r\n",
        "print(\"Actual Mean:\",mean)\r\n",
        "df[x].fillna(mean,inplace = True)\r\n",
        "df[x] = df[x].apply(filloutlier,args=[lower,upper,mean])\r\n",
        "sns.boxplot(df[x])\r\n",
        "\r\n",
        "\r\n"
      ],
      "outputs": [
        {
          "output_type": "stream",
          "name": "stdout",
          "text": [
            "lower:  -11.0 upper:  37.0\n",
            "Actual Mean: 13.623395108765976\n"
          ]
        },
        {
          "output_type": "stream",
          "name": "stderr",
          "text": [
            "C:\\Users\\lenovo\\AppData\\Local\\Programs\\Python\\Python39\\lib\\site-packages\\seaborn\\_decorators.py:36: FutureWarning: Pass the following variable as a keyword arg: x. From version 0.12, the only valid positional argument will be `data`, and passing other arguments without an explicit keyword will result in an error or misinterpretation.\n",
            "  warnings.warn(\n"
          ]
        },
        {
          "output_type": "execute_result",
          "data": {
            "text/plain": [
              "<AxesSubplot:xlabel='WindSpeed9am'>"
            ]
          },
          "metadata": {},
          "execution_count": 27
        },
        {
          "output_type": "display_data",
          "data": {
            "image/png": "[encoded data removed]",
            "text/plain": [
              "<Figure size 432x288 with 1 Axes>"
            ]
          },
          "metadata": {
            "needs_background": "light"
          }
        }
      ],
      "metadata": {
        "colab": {
          "base_uri": "https://localhost:8080/",
          "height": 0
        },
        "id": "vm6JeWKsEIXr",
        "outputId": "0d67c895-ec6d-4422-c0ce-6140820d7b9f"
      }
    },
    {
      "cell_type": "markdown",
      "source": [
        "# WindSpeed3pm"
      ],
      "metadata": {
        "id": "IS6McFL8EIXr"
      }
    },
    {
      "cell_type": "code",
      "execution_count": 28,
      "source": [
        "x  = \"WindSpeed3pm\"\r\n",
        "lower, upper = findIQR(df[df[x].isna()==False][x])\r\n",
        "print(\"lower: \",lower,\"upper: \",upper)\r\n",
        "mean= avgvalue(df[df[x].isna()==False],x,lower,upper)\r\n",
        "print(\"Actual Mean:\",mean)\r\n",
        "df[x].fillna(mean,inplace = True)\r\n",
        "df[x] = df[x].apply(filloutlier,args=[lower,upper,mean])\r\n",
        "sns.boxplot(df[x])\r\n",
        "\r\n",
        "\r\n"
      ],
      "outputs": [
        {
          "output_type": "stream",
          "name": "stdout",
          "text": [
            "lower:  -4.0 upper:  40.0\n",
            "Actual Mean: 18.15585864848109\n"
          ]
        },
        {
          "output_type": "stream",
          "name": "stderr",
          "text": [
            "C:\\Users\\lenovo\\AppData\\Local\\Programs\\Python\\Python39\\lib\\site-packages\\seaborn\\_decorators.py:36: FutureWarning: Pass the following variable as a keyword arg: x. From version 0.12, the only valid positional argument will be `data`, and passing other arguments without an explicit keyword will result in an error or misinterpretation.\n",
            "  warnings.warn(\n"
          ]
        },
        {
          "output_type": "execute_result",
          "data": {
            "text/plain": [
              "<AxesSubplot:xlabel='WindSpeed3pm'>"
            ]
          },
          "metadata": {},
          "execution_count": 28
        },
        {
          "output_type": "display_data",
          "data": {
            "image/png": "[encoded data removed]",
            "text/plain": [
              "<Figure size 432x288 with 1 Axes>"
            ]
          },
          "metadata": {
            "needs_background": "light"
          }
        }
      ],
      "metadata": {
        "colab": {
          "base_uri": "https://localhost:8080/",
          "height": 0
        },
        "id": "8NMKmq5SEIXs",
        "outputId": "eb3391ef-64f1-41a7-d96b-b62b3821aed2"
      }
    },
    {
      "cell_type": "markdown",
      "source": [
        "# Humidity9am"
      ],
      "metadata": {
        "id": "yTismiN-EIXs"
      }
    },
    {
      "cell_type": "code",
      "execution_count": 29,
      "source": [
        "x  = \"Humidity9am\"\r\n",
        "lower, upper = findIQR(df[df[x].isna()==False][x])\r\n",
        "print(\"lower: \",lower,\"upper: \",upper)\r\n",
        "mean= avgvalue(df[df[x].isna()==False],x,lower,upper)\r\n",
        "print(\"Actual Mean:\",mean)\r\n",
        "df[x].fillna(mean,inplace = True)\r\n",
        "df[x] = df[x].apply(filloutlier,args=[lower,upper,mean])\r\n",
        "sns.boxplot(df[x])\r\n",
        "\r\n",
        "\r\n"
      ],
      "outputs": [
        {
          "output_type": "stream",
          "name": "stdout",
          "text": [
            "lower:  18.0 upper:  122.0\n",
            "Actual Mean: 69.41684892086332\n"
          ]
        },
        {
          "output_type": "stream",
          "name": "stderr",
          "text": [
            "C:\\Users\\lenovo\\AppData\\Local\\Programs\\Python\\Python39\\lib\\site-packages\\seaborn\\_decorators.py:36: FutureWarning: Pass the following variable as a keyword arg: x. From version 0.12, the only valid positional argument will be `data`, and passing other arguments without an explicit keyword will result in an error or misinterpretation.\n",
            "  warnings.warn(\n"
          ]
        },
        {
          "output_type": "execute_result",
          "data": {
            "text/plain": [
              "<AxesSubplot:xlabel='Humidity9am'>"
            ]
          },
          "metadata": {},
          "execution_count": 29
        },
        {
          "output_type": "display_data",
          "data": {
            "image/png": "[encoded data removed]",
            "text/plain": [
              "<Figure size 432x288 with 1 Axes>"
            ]
          },
          "metadata": {
            "needs_background": "light"
          }
        }
      ],
      "metadata": {
        "colab": {
          "base_uri": "https://localhost:8080/",
          "height": 0
        },
        "id": "5nlK-adlEIXs",
        "outputId": "6d12cc79-e900-4fe1-b133-c032c661e5c1"
      }
    },
    {
      "cell_type": "markdown",
      "source": [
        "# Humidity3pm"
      ],
      "metadata": {
        "id": "R_-QVGQZEIXt"
      }
    },
    {
      "cell_type": "code",
      "execution_count": 30,
      "source": [
        "x  = \"Humidity3pm\"\r\n",
        "lower, upper = findIQR(df[df[x].isna()==False][x])\r\n",
        "print(\"lower: \",lower,\"upper: \",upper)\r\n",
        "mean= avgvalue(df[df[x].isna()==False],x,lower,upper)\r\n",
        "print(\"Actual Mean:\",mean)\r\n",
        "df[x].fillna(mean,inplace = True)\r\n",
        "df[x] = df[x].apply(filloutlier,args=[lower,upper,mean])\r\n",
        "sns.boxplot(df[x])\r\n",
        "\r\n",
        "\r\n",
        "\r\n"
      ],
      "outputs": [
        {
          "output_type": "stream",
          "name": "stdout",
          "text": [
            "lower:  -6.0 upper:  110.0\n",
            "Actual Mean: 51.482606091656265\n"
          ]
        },
        {
          "output_type": "stream",
          "name": "stderr",
          "text": [
            "C:\\Users\\lenovo\\AppData\\Local\\Programs\\Python\\Python39\\lib\\site-packages\\seaborn\\_decorators.py:36: FutureWarning: Pass the following variable as a keyword arg: x. From version 0.12, the only valid positional argument will be `data`, and passing other arguments without an explicit keyword will result in an error or misinterpretation.\n",
            "  warnings.warn(\n"
          ]
        },
        {
          "output_type": "execute_result",
          "data": {
            "text/plain": [
              "<AxesSubplot:xlabel='Humidity3pm'>"
            ]
          },
          "metadata": {},
          "execution_count": 30
        },
        {
          "output_type": "display_data",
          "data": {
            "image/png": "[encoded data removed]",
            "text/plain": [
              "<Figure size 432x288 with 1 Axes>"
            ]
          },
          "metadata": {
            "needs_background": "light"
          }
        }
      ],
      "metadata": {
        "colab": {
          "base_uri": "https://localhost:8080/",
          "height": 0
        },
        "id": "qoaLCi7VEIXt",
        "outputId": "b10b98eb-9af6-4dd4-a35d-3bcdca7515a1"
      }
    },
    {
      "cell_type": "markdown",
      "source": [
        "# Pressure9am"
      ],
      "metadata": {
        "id": "AV7BkA5mEIXt"
      }
    },
    {
      "cell_type": "code",
      "execution_count": 31,
      "source": [
        "x  = \"Pressure9am\"\r\n",
        "lower, upper = findIQR(df[df[x].isna()==False][x])\r\n",
        "print(\"lower: \",lower,\"upper: \",upper)\r\n",
        "mean= avgvalue(df[df[x].isna()==False],x,lower,upper)\r\n",
        "print(\"Actual Mean:\",mean)\r\n",
        "df[x].fillna(mean,inplace = True)\r\n",
        "df[x] = df[x].apply(filloutlier,args=[lower,upper,mean])\r\n",
        "sns.boxplot(df[x])\r\n",
        "\r\n",
        "\r\n"
      ],
      "outputs": [
        {
          "output_type": "stream",
          "name": "stdout",
          "text": [
            "lower:  999.0 upper:  1037.0\n",
            "Actual Mean: 1017.7808932142801\n"
          ]
        },
        {
          "output_type": "stream",
          "name": "stderr",
          "text": [
            "C:\\Users\\lenovo\\AppData\\Local\\Programs\\Python\\Python39\\lib\\site-packages\\seaborn\\_decorators.py:36: FutureWarning: Pass the following variable as a keyword arg: x. From version 0.12, the only valid positional argument will be `data`, and passing other arguments without an explicit keyword will result in an error or misinterpretation.\n",
            "  warnings.warn(\n"
          ]
        },
        {
          "output_type": "execute_result",
          "data": {
            "text/plain": [
              "<AxesSubplot:xlabel='Pressure9am'>"
            ]
          },
          "metadata": {},
          "execution_count": 31
        },
        {
          "output_type": "display_data",
          "data": {
            "image/png": "[encoded data removed]",
            "text/plain": [
              "<Figure size 432x288 with 1 Axes>"
            ]
          },
          "metadata": {
            "needs_background": "light"
          }
        }
      ],
      "metadata": {
        "colab": {
          "base_uri": "https://localhost:8080/",
          "height": 0
        },
        "id": "jlNijYseEIXt",
        "outputId": "c20c39e5-0e8c-4807-c883-a826e35008e8"
      }
    },
    {
      "cell_type": "markdown",
      "source": [
        "# Pressure3pm"
      ],
      "metadata": {
        "id": "asU7zq5oEIXt"
      }
    },
    {
      "cell_type": "code",
      "execution_count": 32,
      "source": [
        "x  = \"Pressure3pm\"\r\n",
        "lower, upper = findIQR(df[df[x].isna()==False][x])\r\n",
        "print(\"lower: \",lower,\"upper: \",upper)\r\n",
        "mean= avgvalue(df[df[x].isna()==False],x,lower,upper)\r\n",
        "print(\"Actual Mean:\",mean)\r\n",
        "df[x].fillna(mean,inplace = True)\r\n",
        "df[x] = df[x].apply(filloutlier,args=[lower,upper,mean])\r\n",
        "sns.boxplot(df[x])\r\n",
        "\r\n",
        "\r\n"
      ],
      "outputs": [
        {
          "output_type": "stream",
          "name": "stdout",
          "text": [
            "lower:  996.0 upper:  1034.0\n",
            "Actual Mean: 1015.3120874950876\n"
          ]
        },
        {
          "output_type": "stream",
          "name": "stderr",
          "text": [
            "C:\\Users\\lenovo\\AppData\\Local\\Programs\\Python\\Python39\\lib\\site-packages\\seaborn\\_decorators.py:36: FutureWarning: Pass the following variable as a keyword arg: x. From version 0.12, the only valid positional argument will be `data`, and passing other arguments without an explicit keyword will result in an error or misinterpretation.\n",
            "  warnings.warn(\n"
          ]
        },
        {
          "output_type": "execute_result",
          "data": {
            "text/plain": [
              "<AxesSubplot:xlabel='Pressure3pm'>"
            ]
          },
          "metadata": {},
          "execution_count": 32
        },
        {
          "output_type": "display_data",
          "data": {
            "image/png": "[encoded data removed]",
            "text/plain": [
              "<Figure size 432x288 with 1 Axes>"
            ]
          },
          "metadata": {
            "needs_background": "light"
          }
        }
      ],
      "metadata": {
        "colab": {
          "base_uri": "https://localhost:8080/",
          "height": 0
        },
        "id": "CPX8ggccEIXu",
        "outputId": "347198b9-8f19-4ddb-9fd6-a37cc95681bb"
      }
    },
    {
      "cell_type": "markdown",
      "source": [
        "# Cloud9am"
      ],
      "metadata": {
        "id": "7MK2nOopEIXu"
      }
    },
    {
      "cell_type": "code",
      "execution_count": 33,
      "source": [
        "x  = \"Cloud9am\"\r\n",
        "lower, upper = findIQR(df[df[x].isna()==False][x])\r\n",
        "print(\"lower: \",lower,\"upper: \",upper)\r\n",
        "mean= avgvalue(df[df[x].isna()==False],x,lower,upper)\r\n",
        "print(\"Actual Mean:\",mean)\r\n",
        "df[x].fillna(mean,inplace = True)\r\n",
        "df[x] = df[x].apply(filloutlier,args=[lower,upper,mean])\r\n",
        "sns.boxplot(df[x])"
      ],
      "outputs": [
        {
          "output_type": "stream",
          "name": "stdout",
          "text": [
            "lower:  -8.0 upper:  16.0\n",
            "Actual Mean: 4.437189391885787\n"
          ]
        },
        {
          "output_type": "stream",
          "name": "stderr",
          "text": [
            "C:\\Users\\lenovo\\AppData\\Local\\Programs\\Python\\Python39\\lib\\site-packages\\seaborn\\_decorators.py:36: FutureWarning: Pass the following variable as a keyword arg: x. From version 0.12, the only valid positional argument will be `data`, and passing other arguments without an explicit keyword will result in an error or misinterpretation.\n",
            "  warnings.warn(\n"
          ]
        },
        {
          "output_type": "execute_result",
          "data": {
            "text/plain": [
              "<AxesSubplot:xlabel='Cloud9am'>"
            ]
          },
          "metadata": {},
          "execution_count": 33
        },
        {
          "output_type": "display_data",
          "data": {
            "image/png": "[encoded data removed]",
            "text/plain": [
              "<Figure size 432x288 with 1 Axes>"
            ]
          },
          "metadata": {
            "needs_background": "light"
          }
        }
      ],
      "metadata": {
        "colab": {
          "base_uri": "https://localhost:8080/",
          "height": 0
        },
        "id": "aWEf3KF2EIXu",
        "outputId": "bed50bf8-6304-4b84-a133-351d1cbb1781"
      }
    },
    {
      "cell_type": "markdown",
      "source": [
        "# Cloud3pm"
      ],
      "metadata": {
        "id": "qg7J29xgEIXu"
      }
    },
    {
      "cell_type": "code",
      "execution_count": 34,
      "source": [
        "x  = \"Cloud3pm\"\r\n",
        "lower, upper = findIQR(df[df[x].isna()==False][x])\r\n",
        "print(\"lower: \",lower,\"upper: \",upper)\r\n",
        "mean= avgvalue(df[df[x].isna()==False],x,lower,upper)\r\n",
        "print(\"Actual Mean:\",mean)\r\n",
        "df[x].fillna(mean,inplace = True)\r\n",
        "df[x] = df[x].apply(filloutlier,args=[lower,upper,mean])\r\n",
        "sns.boxplot(df[x])"
      ],
      "outputs": [
        {
          "output_type": "stream",
          "name": "stdout",
          "text": [
            "lower:  -6.0 upper:  14.0\n",
            "Actual Mean: 4.503166899728551\n"
          ]
        },
        {
          "output_type": "stream",
          "name": "stderr",
          "text": [
            "C:\\Users\\lenovo\\AppData\\Local\\Programs\\Python\\Python39\\lib\\site-packages\\seaborn\\_decorators.py:36: FutureWarning: Pass the following variable as a keyword arg: x. From version 0.12, the only valid positional argument will be `data`, and passing other arguments without an explicit keyword will result in an error or misinterpretation.\n",
            "  warnings.warn(\n"
          ]
        },
        {
          "output_type": "execute_result",
          "data": {
            "text/plain": [
              "<AxesSubplot:xlabel='Cloud3pm'>"
            ]
          },
          "metadata": {},
          "execution_count": 34
        },
        {
          "output_type": "display_data",
          "data": {
            "image/png": "[encoded data removed]",
            "text/plain": [
              "<Figure size 432x288 with 1 Axes>"
            ]
          },
          "metadata": {
            "needs_background": "light"
          }
        }
      ],
      "metadata": {
        "colab": {
          "base_uri": "https://localhost:8080/",
          "height": 0
        },
        "id": "G5TmPtKHEIXu",
        "outputId": "4f73310c-0482-48a3-f04f-6b8325640c59"
      }
    },
    {
      "cell_type": "markdown",
      "source": [
        "# Temp9am"
      ],
      "metadata": {
        "id": "XLd_D5PrEIXv"
      }
    },
    {
      "cell_type": "code",
      "execution_count": 35,
      "source": [
        "x  = \"Temp9am\"\r\n",
        "lower, upper = findIQR(df[df[x].isna()==False][x])\r\n",
        "print(\"lower: \",lower,\"upper: \",upper)\r\n",
        "mean= avgvalue(df[df[x].isna()==False],x,lower,upper)\r\n",
        "print(\"Actual Mean:\",mean)\r\n",
        "df[x].fillna(mean,inplace = True)\r\n",
        "df[x] = df[x].apply(filloutlier,args=[lower,upper,mean])\r\n",
        "sns.boxplot(df[x])"
      ],
      "outputs": [
        {
          "output_type": "stream",
          "name": "stdout",
          "text": [
            "lower:  -2.0 upper:  36.0\n",
            "Actual Mean: 16.999080091565617\n"
          ]
        },
        {
          "output_type": "stream",
          "name": "stderr",
          "text": [
            "C:\\Users\\lenovo\\AppData\\Local\\Programs\\Python\\Python39\\lib\\site-packages\\seaborn\\_decorators.py:36: FutureWarning: Pass the following variable as a keyword arg: x. From version 0.12, the only valid positional argument will be `data`, and passing other arguments without an explicit keyword will result in an error or misinterpretation.\n",
            "  warnings.warn(\n"
          ]
        },
        {
          "output_type": "execute_result",
          "data": {
            "text/plain": [
              "<AxesSubplot:xlabel='Temp9am'>"
            ]
          },
          "metadata": {},
          "execution_count": 35
        },
        {
          "output_type": "display_data",
          "data": {
            "image/png": "[encoded data removed]",
            "text/plain": [
              "<Figure size 432x288 with 1 Axes>"
            ]
          },
          "metadata": {
            "needs_background": "light"
          }
        }
      ],
      "metadata": {
        "colab": {
          "base_uri": "https://localhost:8080/",
          "height": 0
        },
        "id": "rzzZYirkEIXv",
        "outputId": "84dde72b-3529-4d78-f1f7-f24471533299"
      }
    },
    {
      "cell_type": "markdown",
      "source": [
        "# Temp3pm"
      ],
      "metadata": {
        "id": "YLJMusJZEIXv"
      }
    },
    {
      "cell_type": "code",
      "execution_count": 36,
      "source": [
        "x  = \"Temp3pm\"\r\n",
        "lower, upper = findIQR(df[df[x].isna()==False][x])\r\n",
        "print(\"lower: \",lower,\"upper: \",upper)\r\n",
        "mean= avgvalue(df[df[x].isna()==False],x,lower,upper)\r\n",
        "print(\"Actual Mean:\",mean)\r\n",
        "df[x].fillna(mean,inplace = True)\r\n",
        "df[x] = df[x].apply(filloutlier,args=[lower,upper,mean])\r\n",
        "sns.boxplot(df[x])"
      ],
      "outputs": [
        {
          "output_type": "stream",
          "name": "stdout",
          "text": [
            "lower:  2.0 upper:  41.0\n",
            "Actual Mean: 21.688980912839142\n"
          ]
        },
        {
          "output_type": "stream",
          "name": "stderr",
          "text": [
            "C:\\Users\\lenovo\\AppData\\Local\\Programs\\Python\\Python39\\lib\\site-packages\\seaborn\\_decorators.py:36: FutureWarning: Pass the following variable as a keyword arg: x. From version 0.12, the only valid positional argument will be `data`, and passing other arguments without an explicit keyword will result in an error or misinterpretation.\n",
            "  warnings.warn(\n"
          ]
        },
        {
          "output_type": "execute_result",
          "data": {
            "text/plain": [
              "<AxesSubplot:xlabel='Temp3pm'>"
            ]
          },
          "metadata": {},
          "execution_count": 36
        },
        {
          "output_type": "display_data",
          "data": {
            "image/png": "[encoded data removed]",
            "text/plain": [
              "<Figure size 432x288 with 1 Axes>"
            ]
          },
          "metadata": {
            "needs_background": "light"
          }
        }
      ],
      "metadata": {
        "colab": {
          "base_uri": "https://localhost:8080/",
          "height": 380
        },
        "id": "mDw7qhwyEIXv",
        "outputId": "51d8dc0f-db5e-4fff-c108-b2a9853aa459"
      }
    },
    {
      "cell_type": "code",
      "execution_count": 24,
      "source": [
        "df.dropna(subset= ['RainToday'], inplace =True)\r\n",
        "df.isna().sum()"
      ],
      "outputs": [
        {
          "output_type": "execute_result",
          "data": {
            "text/plain": [
              "MinTemp             0\n",
              "MaxTemp             0\n",
              "Rainfall            0\n",
              "WindGustDir      9163\n",
              "WindGustSpeed       0\n",
              "WindDir9am       9660\n",
              "WindDir3pm       3670\n",
              "WindSpeed9am        0\n",
              "WindSpeed3pm        0\n",
              "Humidity9am         0\n",
              "Humidity3pm         0\n",
              "Pressure9am         0\n",
              "Pressure3pm         0\n",
              "Cloud9am            0\n",
              "Cloud3pm            0\n",
              "Temp9am             0\n",
              "Temp3pm             0\n",
              "RainToday           0\n",
              "RainTomorrow        0\n",
              "dtype: int64"
            ]
          },
          "metadata": {},
          "execution_count": 24
        }
      ],
      "metadata": {
        "colab": {
          "base_uri": "https://localhost:8080/"
        },
        "id": "hAZImjYvEIXw",
        "outputId": "35f525f3-4f3f-4fff-d8a8-1e5d3b4dce0e"
      }
    },
    {
      "cell_type": "markdown",
      "source": [
        "## WindGustDir"
      ],
      "metadata": {
        "id": "bK6D1cEmEIXw"
      }
    },
    {
      "cell_type": "code",
      "execution_count": 37,
      "source": [
        "def nanfill(col,mod):\r\n",
        "  if type(col)  ==  type(float('nan')):\r\n",
        "      return mod\r\n",
        "  return col\r\n",
        "\r\n",
        "\r\n",
        "def convertToString(col):\r\n",
        "  if type(col)!=type('str'):\r\n",
        "      return col.to_string()\r\n",
        "  return col\r\n",
        "  "
      ],
      "outputs": [],
      "metadata": {
        "id": "33q4xFBzv2Gm"
      }
    },
    {
      "cell_type": "code",
      "execution_count": 38,
      "source": [
        "\r\n",
        "mode = df[df['WindGustDir'].isna()==False]['WindGustDir'].mode()\r\n",
        "df['WindGustDir'].fillna(mode, inplace = True)\r\n",
        "df['WindGustDir'] = df['WindGustDir'].apply(nanfill,args=[mode])\r\n",
        "df['WindGustDir'] = df['WindGustDir'].apply(convertToString) "
      ],
      "outputs": [],
      "metadata": {
        "id": "sxMvGD0eEIXw"
      }
    },
    {
      "cell_type": "code",
      "execution_count": 39,
      "source": [
        "def changeToCorrect(col):\r\n",
        "    if col=='0    E':\r\n",
        "        return 'E'\r\n",
        "    elif col=='0    W':\r\n",
        "        return 'W'\r\n",
        "    return col"
      ],
      "outputs": [],
      "metadata": {
        "id": "SYl1weBnEIXx"
      }
    },
    {
      "cell_type": "code",
      "execution_count": 40,
      "source": [
        "df['WindGustDir'] = df['WindGustDir'].apply(changeToCorrect) "
      ],
      "outputs": [],
      "metadata": {
        "id": "0PcJ2MI8EIXx"
      }
    },
    {
      "cell_type": "code",
      "execution_count": 41,
      "source": [
        "x = df['WindGustDir'].unique()"
      ],
      "outputs": [],
      "metadata": {
        "id": "dZDJHUDMEIXx"
      }
    },
    {
      "cell_type": "code",
      "execution_count": 42,
      "source": [
        "x"
      ],
      "outputs": [
        {
          "output_type": "execute_result",
          "data": {
            "text/plain": [
              "array(['W', 'WNW', 'WSW', 'NE', 'NNW', 'N', 'NNE', 'SW', 'ENE', 'SSE',\n",
              "       'S', 'NW', 'SE', 'ESE', 'E', 'SSW'], dtype=object)"
            ]
          },
          "metadata": {},
          "execution_count": 42
        }
      ],
      "metadata": {
        "id": "iRXq1TVbxgdR",
        "colab": {
          "base_uri": "https://localhost:8080/"
        },
        "outputId": "9a110179-ec54-45d0-9952-8268bd2e7db1"
      }
    },
    {
      "cell_type": "markdown",
      "source": [
        "## WindDir9am"
      ],
      "metadata": {
        "id": "xBqPsAzsEIXx"
      }
    },
    {
      "cell_type": "code",
      "execution_count": 43,
      "source": [
        "def changeToCorrect(col):\r\n",
        "    if col=='0    E':\r\n",
        "        return 'E'\r\n",
        "    elif col=='0    W':\r\n",
        "        return 'W'\r\n",
        "    elif col=='0    N':\r\n",
        "        return 'N'\r\n",
        "    return col\r\n",
        "\r\n",
        "def nanfill(col,mod):\r\n",
        "  if type(col)  ==  type(float('nan')):\r\n",
        "      return mod\r\n",
        "  return col"
      ],
      "outputs": [],
      "metadata": {
        "id": "u6JZov07EIXx"
      }
    },
    {
      "cell_type": "code",
      "execution_count": 44,
      "source": [
        "\r\n",
        "mod = df[df['WindDir9am'].isna()==False]['WindDir9am'].mode()\r\n",
        "df['WindDir9am'] = df['WindDir9am'].apply(nanfill,args = [mod,]) \r\n",
        "df['WindDir9am']   = df['WindDir9am'].apply(convertToString)\r\n",
        "df['WindDir9am'].fillna(mod,inplace=True)\r\n",
        "\r\n",
        "df['WindDir9am'] = df['WindDir9am'].apply(changeToCorrect) \r\n",
        "\r\n",
        "df['WindDir9am'].unique()"
      ],
      "outputs": [
        {
          "output_type": "execute_result",
          "data": {
            "text/plain": [
              "array(['W', 'NNW', 'SE', 'ENE', 'SW', 'SSE', 'S', 'NE', 'N', 'SSW', 'WSW',\n",
              "       'ESE', 'E', 'NW', 'WNW', 'NNE'], dtype=object)"
            ]
          },
          "metadata": {},
          "execution_count": 44
        }
      ],
      "metadata": {
        "colab": {
          "base_uri": "https://localhost:8080/"
        },
        "id": "lH2bmjBpEIXx",
        "outputId": "3dea801b-12da-4a8b-f1b8-acc61ee9bd61"
      }
    },
    {
      "cell_type": "markdown",
      "source": [
        "## WindDir3pm"
      ],
      "metadata": {
        "id": "4tD-83vzEIXy"
      }
    },
    {
      "cell_type": "code",
      "execution_count": 45,
      "source": [
        "def changeToCorrect(col):\r\n",
        "    if col=='0    SE':\r\n",
        "        return 'SE'\r\n",
        "    elif col=='0    W':\r\n",
        "        return 'W'\r\n",
        "    return col\r\n",
        "df['WindDir3pm'] = df['WindDir3pm'].apply(changeToCorrect)\r\n",
        "df['WindDir3pm'].unique()\r\n"
      ],
      "outputs": [
        {
          "output_type": "execute_result",
          "data": {
            "text/plain": [
              "array(['WNW', 'WSW', 'E', 'NW', 'W', 'SSE', 'ESE', 'ENE', 'NNW', 'SSW',\n",
              "       'SW', 'SE', 'N', 'S', 'NNE', nan, 'NE'], dtype=object)"
            ]
          },
          "metadata": {},
          "execution_count": 45
        }
      ],
      "metadata": {
        "colab": {
          "base_uri": "https://localhost:8080/"
        },
        "id": "1LYSHpqxEIXy",
        "outputId": "bd732860-8078-46bc-ef0f-8b639b06c8a7"
      }
    },
    {
      "cell_type": "code",
      "execution_count": 46,
      "source": [
        "\r\n",
        "mod = df[df['WindDir3pm'].isna()==False]['WindDir3pm'].mode()\r\n",
        "df['WindDir3pm'] = df['WindDir3pm'].apply(nanfill,args = [mod,]) \r\n",
        "df['WindDir3pm']   = df['WindDir3pm'].apply(convertToString)\r\n",
        "df['WindDir3pm'].fillna(mod,inplace=True)\r\n",
        "\r\n",
        "df['WindDir3pm'] = df['WindDir3pm'].apply(changeToCorrect) \r\n",
        "\r\n",
        "df['WindDir3pm'].unique()"
      ],
      "outputs": [
        {
          "output_type": "execute_result",
          "data": {
            "text/plain": [
              "array(['WNW', 'WSW', 'E', 'NW', 'W', 'SSE', 'ESE', 'ENE', 'NNW', 'SSW',\n",
              "       'SW', 'SE', 'N', 'S', 'NNE', 'NE'], dtype=object)"
            ]
          },
          "metadata": {},
          "execution_count": 46
        }
      ],
      "metadata": {
        "colab": {
          "base_uri": "https://localhost:8080/"
        },
        "id": "429kyWSxEIXy",
        "outputId": "b7d4fe3d-88c6-4c67-a88e-3f89a54e82e8"
      }
    },
    {
      "cell_type": "markdown",
      "source": [
        "# Label Encoding"
      ],
      "metadata": {
        "id": "iDMcrjN7EIXy"
      }
    },
    {
      "cell_type": "code",
      "execution_count": 47,
      "source": [
        "df"
      ],
      "outputs": [
        {
          "output_type": "execute_result",
          "data": {
            "text/html": [
              "<div>\n",
              "<style scoped>\n",
              "    .dataframe tbody tr th:only-of-type {\n",
              "        vertical-align: middle;\n",
              "    }\n",
              "\n",
              "    .dataframe tbody tr th {\n",
              "        vertical-align: top;\n",
              "    }\n",
              "\n",
              "    .dataframe thead th {\n",
              "        text-align: right;\n",
              "    }\n",
              "</style>\n",
              "<table border=\"1\" class=\"dataframe\">\n",
              "  <thead>\n",
              "    <tr style=\"text-align: right;\">\n",
              "      <th></th>\n",
              "      <th>MinTemp</th>\n",
              "      <th>MaxTemp</th>\n",
              "      <th>Rainfall</th>\n",
              "      <th>WindGustDir</th>\n",
              "      <th>WindGustSpeed</th>\n",
              "      <th>WindDir9am</th>\n",
              "      <th>WindDir3pm</th>\n",
              "      <th>WindSpeed9am</th>\n",
              "      <th>WindSpeed3pm</th>\n",
              "      <th>Humidity9am</th>\n",
              "      <th>Humidity3pm</th>\n",
              "      <th>Pressure9am</th>\n",
              "      <th>Pressure3pm</th>\n",
              "      <th>Cloud9am</th>\n",
              "      <th>Cloud3pm</th>\n",
              "      <th>Temp9am</th>\n",
              "      <th>Temp3pm</th>\n",
              "      <th>RainToday</th>\n",
              "      <th>RainTomorrow</th>\n",
              "    </tr>\n",
              "  </thead>\n",
              "  <tbody>\n",
              "    <tr>\n",
              "      <th>0</th>\n",
              "      <td>13.4</td>\n",
              "      <td>22.9</td>\n",
              "      <td>0.6</td>\n",
              "      <td>W</td>\n",
              "      <td>44.0</td>\n",
              "      <td>W</td>\n",
              "      <td>WNW</td>\n",
              "      <td>20.0</td>\n",
              "      <td>24.0</td>\n",
              "      <td>71.0</td>\n",
              "      <td>22.0</td>\n",
              "      <td>1007.7</td>\n",
              "      <td>1007.1</td>\n",
              "      <td>8.000000</td>\n",
              "      <td>4.503167</td>\n",
              "      <td>16.9</td>\n",
              "      <td>21.8</td>\n",
              "      <td>No</td>\n",
              "      <td>No</td>\n",
              "    </tr>\n",
              "    <tr>\n",
              "      <th>1</th>\n",
              "      <td>7.4</td>\n",
              "      <td>25.1</td>\n",
              "      <td>0.0</td>\n",
              "      <td>WNW</td>\n",
              "      <td>44.0</td>\n",
              "      <td>NNW</td>\n",
              "      <td>WSW</td>\n",
              "      <td>4.0</td>\n",
              "      <td>22.0</td>\n",
              "      <td>44.0</td>\n",
              "      <td>25.0</td>\n",
              "      <td>1010.6</td>\n",
              "      <td>1007.8</td>\n",
              "      <td>4.437189</td>\n",
              "      <td>4.503167</td>\n",
              "      <td>17.2</td>\n",
              "      <td>24.3</td>\n",
              "      <td>No</td>\n",
              "      <td>No</td>\n",
              "    </tr>\n",
              "    <tr>\n",
              "      <th>2</th>\n",
              "      <td>12.9</td>\n",
              "      <td>25.7</td>\n",
              "      <td>0.0</td>\n",
              "      <td>WSW</td>\n",
              "      <td>46.0</td>\n",
              "      <td>W</td>\n",
              "      <td>WSW</td>\n",
              "      <td>19.0</td>\n",
              "      <td>26.0</td>\n",
              "      <td>38.0</td>\n",
              "      <td>30.0</td>\n",
              "      <td>1007.6</td>\n",
              "      <td>1008.7</td>\n",
              "      <td>4.437189</td>\n",
              "      <td>2.000000</td>\n",
              "      <td>21.0</td>\n",
              "      <td>23.2</td>\n",
              "      <td>No</td>\n",
              "      <td>No</td>\n",
              "    </tr>\n",
              "    <tr>\n",
              "      <th>3</th>\n",
              "      <td>9.2</td>\n",
              "      <td>28.0</td>\n",
              "      <td>0.0</td>\n",
              "      <td>NE</td>\n",
              "      <td>24.0</td>\n",
              "      <td>SE</td>\n",
              "      <td>E</td>\n",
              "      <td>11.0</td>\n",
              "      <td>9.0</td>\n",
              "      <td>45.0</td>\n",
              "      <td>16.0</td>\n",
              "      <td>1017.6</td>\n",
              "      <td>1012.8</td>\n",
              "      <td>4.437189</td>\n",
              "      <td>4.503167</td>\n",
              "      <td>18.1</td>\n",
              "      <td>26.5</td>\n",
              "      <td>No</td>\n",
              "      <td>No</td>\n",
              "    </tr>\n",
              "    <tr>\n",
              "      <th>4</th>\n",
              "      <td>17.5</td>\n",
              "      <td>32.3</td>\n",
              "      <td>1.0</td>\n",
              "      <td>W</td>\n",
              "      <td>41.0</td>\n",
              "      <td>ENE</td>\n",
              "      <td>NW</td>\n",
              "      <td>7.0</td>\n",
              "      <td>20.0</td>\n",
              "      <td>82.0</td>\n",
              "      <td>33.0</td>\n",
              "      <td>1010.8</td>\n",
              "      <td>1006.0</td>\n",
              "      <td>7.000000</td>\n",
              "      <td>8.000000</td>\n",
              "      <td>17.8</td>\n",
              "      <td>29.7</td>\n",
              "      <td>No</td>\n",
              "      <td>No</td>\n",
              "    </tr>\n",
              "    <tr>\n",
              "      <th>...</th>\n",
              "      <td>...</td>\n",
              "      <td>...</td>\n",
              "      <td>...</td>\n",
              "      <td>...</td>\n",
              "      <td>...</td>\n",
              "      <td>...</td>\n",
              "      <td>...</td>\n",
              "      <td>...</td>\n",
              "      <td>...</td>\n",
              "      <td>...</td>\n",
              "      <td>...</td>\n",
              "      <td>...</td>\n",
              "      <td>...</td>\n",
              "      <td>...</td>\n",
              "      <td>...</td>\n",
              "      <td>...</td>\n",
              "      <td>...</td>\n",
              "      <td>...</td>\n",
              "      <td>...</td>\n",
              "    </tr>\n",
              "    <tr>\n",
              "      <th>145454</th>\n",
              "      <td>3.5</td>\n",
              "      <td>21.8</td>\n",
              "      <td>0.0</td>\n",
              "      <td>E</td>\n",
              "      <td>31.0</td>\n",
              "      <td>ESE</td>\n",
              "      <td>E</td>\n",
              "      <td>15.0</td>\n",
              "      <td>13.0</td>\n",
              "      <td>59.0</td>\n",
              "      <td>27.0</td>\n",
              "      <td>1024.7</td>\n",
              "      <td>1021.2</td>\n",
              "      <td>4.437189</td>\n",
              "      <td>4.503167</td>\n",
              "      <td>9.4</td>\n",
              "      <td>20.9</td>\n",
              "      <td>No</td>\n",
              "      <td>No</td>\n",
              "    </tr>\n",
              "    <tr>\n",
              "      <th>145455</th>\n",
              "      <td>2.8</td>\n",
              "      <td>23.4</td>\n",
              "      <td>0.0</td>\n",
              "      <td>E</td>\n",
              "      <td>31.0</td>\n",
              "      <td>SE</td>\n",
              "      <td>ENE</td>\n",
              "      <td>13.0</td>\n",
              "      <td>11.0</td>\n",
              "      <td>51.0</td>\n",
              "      <td>24.0</td>\n",
              "      <td>1024.6</td>\n",
              "      <td>1020.3</td>\n",
              "      <td>4.437189</td>\n",
              "      <td>4.503167</td>\n",
              "      <td>10.1</td>\n",
              "      <td>22.4</td>\n",
              "      <td>No</td>\n",
              "      <td>No</td>\n",
              "    </tr>\n",
              "    <tr>\n",
              "      <th>145456</th>\n",
              "      <td>3.6</td>\n",
              "      <td>25.3</td>\n",
              "      <td>0.0</td>\n",
              "      <td>NNW</td>\n",
              "      <td>22.0</td>\n",
              "      <td>SE</td>\n",
              "      <td>N</td>\n",
              "      <td>13.0</td>\n",
              "      <td>9.0</td>\n",
              "      <td>56.0</td>\n",
              "      <td>21.0</td>\n",
              "      <td>1023.5</td>\n",
              "      <td>1019.1</td>\n",
              "      <td>4.437189</td>\n",
              "      <td>4.503167</td>\n",
              "      <td>10.9</td>\n",
              "      <td>24.5</td>\n",
              "      <td>No</td>\n",
              "      <td>No</td>\n",
              "    </tr>\n",
              "    <tr>\n",
              "      <th>145457</th>\n",
              "      <td>5.4</td>\n",
              "      <td>26.9</td>\n",
              "      <td>0.0</td>\n",
              "      <td>N</td>\n",
              "      <td>37.0</td>\n",
              "      <td>SE</td>\n",
              "      <td>WNW</td>\n",
              "      <td>9.0</td>\n",
              "      <td>9.0</td>\n",
              "      <td>53.0</td>\n",
              "      <td>24.0</td>\n",
              "      <td>1021.0</td>\n",
              "      <td>1016.8</td>\n",
              "      <td>4.437189</td>\n",
              "      <td>4.503167</td>\n",
              "      <td>12.5</td>\n",
              "      <td>26.1</td>\n",
              "      <td>No</td>\n",
              "      <td>No</td>\n",
              "    </tr>\n",
              "    <tr>\n",
              "      <th>145458</th>\n",
              "      <td>7.8</td>\n",
              "      <td>27.0</td>\n",
              "      <td>0.0</td>\n",
              "      <td>SE</td>\n",
              "      <td>28.0</td>\n",
              "      <td>SSE</td>\n",
              "      <td>N</td>\n",
              "      <td>13.0</td>\n",
              "      <td>7.0</td>\n",
              "      <td>51.0</td>\n",
              "      <td>24.0</td>\n",
              "      <td>1019.4</td>\n",
              "      <td>1016.5</td>\n",
              "      <td>3.000000</td>\n",
              "      <td>2.000000</td>\n",
              "      <td>15.1</td>\n",
              "      <td>26.0</td>\n",
              "      <td>No</td>\n",
              "      <td>No</td>\n",
              "    </tr>\n",
              "  </tbody>\n",
              "</table>\n",
              "<p>142193 rows × 19 columns</p>\n",
              "</div>"
            ],
            "text/plain": [
              "        MinTemp  MaxTemp  Rainfall WindGustDir  WindGustSpeed WindDir9am  \\\n",
              "0          13.4     22.9       0.6           W           44.0          W   \n",
              "1           7.4     25.1       0.0         WNW           44.0        NNW   \n",
              "2          12.9     25.7       0.0         WSW           46.0          W   \n",
              "3           9.2     28.0       0.0          NE           24.0         SE   \n",
              "4          17.5     32.3       1.0           W           41.0        ENE   \n",
              "...         ...      ...       ...         ...            ...        ...   \n",
              "145454      3.5     21.8       0.0           E           31.0        ESE   \n",
              "145455      2.8     23.4       0.0           E           31.0         SE   \n",
              "145456      3.6     25.3       0.0         NNW           22.0         SE   \n",
              "145457      5.4     26.9       0.0           N           37.0         SE   \n",
              "145458      7.8     27.0       0.0          SE           28.0        SSE   \n",
              "\n",
              "       WindDir3pm  WindSpeed9am  WindSpeed3pm  Humidity9am  Humidity3pm  \\\n",
              "0             WNW          20.0          24.0         71.0         22.0   \n",
              "1             WSW           4.0          22.0         44.0         25.0   \n",
              "2             WSW          19.0          26.0         38.0         30.0   \n",
              "3               E          11.0           9.0         45.0         16.0   \n",
              "4              NW           7.0          20.0         82.0         33.0   \n",
              "...           ...           ...           ...          ...          ...   \n",
              "145454          E          15.0          13.0         59.0         27.0   \n",
              "145455        ENE          13.0          11.0         51.0         24.0   \n",
              "145456          N          13.0           9.0         56.0         21.0   \n",
              "145457        WNW           9.0           9.0         53.0         24.0   \n",
              "145458          N          13.0           7.0         51.0         24.0   \n",
              "\n",
              "        Pressure9am  Pressure3pm  Cloud9am  Cloud3pm  Temp9am  Temp3pm  \\\n",
              "0            1007.7       1007.1  8.000000  4.503167     16.9     21.8   \n",
              "1            1010.6       1007.8  4.437189  4.503167     17.2     24.3   \n",
              "2            1007.6       1008.7  4.437189  2.000000     21.0     23.2   \n",
              "3            1017.6       1012.8  4.437189  4.503167     18.1     26.5   \n",
              "4            1010.8       1006.0  7.000000  8.000000     17.8     29.7   \n",
              "...             ...          ...       ...       ...      ...      ...   \n",
              "145454       1024.7       1021.2  4.437189  4.503167      9.4     20.9   \n",
              "145455       1024.6       1020.3  4.437189  4.503167     10.1     22.4   \n",
              "145456       1023.5       1019.1  4.437189  4.503167     10.9     24.5   \n",
              "145457       1021.0       1016.8  4.437189  4.503167     12.5     26.1   \n",
              "145458       1019.4       1016.5  3.000000  2.000000     15.1     26.0   \n",
              "\n",
              "       RainToday RainTomorrow  \n",
              "0             No           No  \n",
              "1             No           No  \n",
              "2             No           No  \n",
              "3             No           No  \n",
              "4             No           No  \n",
              "...          ...          ...  \n",
              "145454        No           No  \n",
              "145455        No           No  \n",
              "145456        No           No  \n",
              "145457        No           No  \n",
              "145458        No           No  \n",
              "\n",
              "[142193 rows x 19 columns]"
            ]
          },
          "metadata": {},
          "execution_count": 47
        }
      ],
      "metadata": {
        "id": "R62nooql2sWA",
        "colab": {
          "base_uri": "https://localhost:8080/",
          "height": 428
        },
        "outputId": "4b4b107d-207b-4bf8-e7fa-b82292972927"
      }
    },
    {
      "cell_type": "code",
      "execution_count": 48,
      "source": [
        "df['WindDir3pm'].unique()"
      ],
      "outputs": [
        {
          "output_type": "execute_result",
          "data": {
            "text/plain": [
              "array(['WNW', 'WSW', 'E', 'NW', 'W', 'SSE', 'ESE', 'ENE', 'NNW', 'SSW',\n",
              "       'SW', 'SE', 'N', 'S', 'NNE', 'NE'], dtype=object)"
            ]
          },
          "metadata": {},
          "execution_count": 48
        }
      ],
      "metadata": {
        "id": "5iYOAu982sgn",
        "colab": {
          "base_uri": "https://localhost:8080/"
        },
        "outputId": "5212636c-df94-4b3a-c9d7-33170fabf5ac"
      }
    },
    {
      "cell_type": "code",
      "execution_count": 49,
      "source": [
        "lb = preprocessing.LabelEncoder()"
      ],
      "outputs": [],
      "metadata": {
        "id": "Bn_X_Ksh2soB"
      }
    },
    {
      "cell_type": "code",
      "execution_count": 50,
      "source": [
        "df['RainTomorrow'] = lb.fit_transform(df['RainTomorrow'])\r\n",
        "## Yes - 1\r\n",
        "## NO - 0\r\n"
      ],
      "outputs": [],
      "metadata": {
        "id": "S_hjLQ642suM"
      }
    },
    {
      "cell_type": "code",
      "execution_count": 52,
      "source": [
        "# lb.transform(np.array('Yes', ndmin= 1))"
      ],
      "outputs": [],
      "metadata": {
        "colab": {
          "base_uri": "https://localhost:8080/"
        },
        "id": "hlRxzmv3W6hn",
        "outputId": "3588b0eb-ccc8-4061-88e6-0f46dbc24e6b"
      }
    },
    {
      "cell_type": "code",
      "execution_count": 51,
      "source": [
        "df['RainToday'] = lb.fit_transform(df['RainToday'])\r\n",
        "## Yes - 1\r\n",
        "## NO - 0\r\n"
      ],
      "outputs": [],
      "metadata": {
        "id": "xVrYrEzHW6ig"
      }
    },
    {
      "cell_type": "code",
      "execution_count": 42,
      "source": [
        "# lb.transform(np.array('Yes', ndmin= 1))"
      ],
      "outputs": [],
      "metadata": {
        "colab": {
          "base_uri": "https://localhost:8080/"
        },
        "id": "9U_2F5VjZfSI",
        "outputId": "252c04d5-1550-41ea-982b-9304ac061196"
      }
    },
    {
      "cell_type": "code",
      "execution_count": 52,
      "source": [
        "x = df['WindGustDir'].unique()\r\n",
        "df['WindGustDir'] = lb.fit_transform(df['WindGustDir'])\r\n"
      ],
      "outputs": [],
      "metadata": {
        "id": "87_qNxj0W6mA"
      }
    },
    {
      "cell_type": "code",
      "execution_count": 53,
      "source": [
        "x"
      ],
      "outputs": [
        {
          "output_type": "execute_result",
          "data": {
            "text/plain": [
              "array(['W', 'WNW', 'WSW', 'NE', 'NNW', 'N', 'NNE', 'SW', 'ENE', 'SSE',\n",
              "       'S', 'NW', 'SE', 'ESE', 'E', 'SSW'], dtype=object)"
            ]
          },
          "metadata": {},
          "execution_count": 53
        }
      ],
      "metadata": {}
    },
    {
      "cell_type": "code",
      "execution_count": 54,
      "source": [
        "windGustDir_key = {}\r\n",
        "for i in x:\r\n",
        "  windGustDir_key[i] = lb.transform(np.array(i, ndmin= 1))[0]\r\n"
      ],
      "outputs": [],
      "metadata": {
        "id": "vcOjbrv9W6my"
      }
    },
    {
      "cell_type": "code",
      "execution_count": 55,
      "source": [
        "windGustDir_key"
      ],
      "outputs": [
        {
          "output_type": "execute_result",
          "data": {
            "text/plain": [
              "{'W': 13,\n",
              " 'WNW': 14,\n",
              " 'WSW': 15,\n",
              " 'NE': 4,\n",
              " 'NNW': 6,\n",
              " 'N': 3,\n",
              " 'NNE': 5,\n",
              " 'SW': 12,\n",
              " 'ENE': 1,\n",
              " 'SSE': 10,\n",
              " 'S': 8,\n",
              " 'NW': 7,\n",
              " 'SE': 9,\n",
              " 'ESE': 2,\n",
              " 'E': 0,\n",
              " 'SSW': 11}"
            ]
          },
          "metadata": {},
          "execution_count": 55
        }
      ],
      "metadata": {
        "colab": {
          "base_uri": "https://localhost:8080/"
        },
        "id": "BLn4OyF6W6rx",
        "outputId": "62b94648-6cc6-4fe7-ac1a-2034a4b8ab50"
      }
    },
    {
      "cell_type": "code",
      "execution_count": 56,
      "source": [
        "x = df['WindDir9am'].unique()\r\n",
        "df['WindDir9am'] = lb.fit_transform(df['WindDir9am'])\r\n",
        "WindDir9am_key = {}\r\n",
        "for i in x:\r\n",
        "  WindDir9am_key[i] = lb.transform(np.array(i, ndmin= 1))[0]\r\n",
        "WindDir9am_key\r\n"
      ],
      "outputs": [
        {
          "output_type": "execute_result",
          "data": {
            "text/plain": [
              "{'W': 13,\n",
              " 'NNW': 6,\n",
              " 'SE': 9,\n",
              " 'ENE': 1,\n",
              " 'SW': 12,\n",
              " 'SSE': 10,\n",
              " 'S': 8,\n",
              " 'NE': 4,\n",
              " 'N': 3,\n",
              " 'SSW': 11,\n",
              " 'WSW': 15,\n",
              " 'ESE': 2,\n",
              " 'E': 0,\n",
              " 'NW': 7,\n",
              " 'WNW': 14,\n",
              " 'NNE': 5}"
            ]
          },
          "metadata": {},
          "execution_count": 56
        }
      ],
      "metadata": {
        "id": "4dxqNySB2s2E",
        "colab": {
          "base_uri": "https://localhost:8080/"
        },
        "outputId": "878740c5-0810-4db6-baa7-80952b2b1d14"
      }
    },
    {
      "cell_type": "code",
      "execution_count": 57,
      "source": [
        "x = df['WindDir3pm'].unique()\r\n",
        "df['WindDir3pm'] = lb.fit_transform(df['WindDir3pm'])\r\n",
        "WindDir3pm_key = {}\r\n",
        "for i in x:\r\n",
        "  WindDir3pm_key[i] = lb.transform(np.array(i, ndmin= 1))[0]\r\n",
        "WindDir3pm_key\r\n"
      ],
      "outputs": [
        {
          "output_type": "execute_result",
          "data": {
            "text/plain": [
              "{'WNW': 14,\n",
              " 'WSW': 15,\n",
              " 'E': 0,\n",
              " 'NW': 7,\n",
              " 'W': 13,\n",
              " 'SSE': 10,\n",
              " 'ESE': 2,\n",
              " 'ENE': 1,\n",
              " 'NNW': 6,\n",
              " 'SSW': 11,\n",
              " 'SW': 12,\n",
              " 'SE': 9,\n",
              " 'N': 3,\n",
              " 'S': 8,\n",
              " 'NNE': 5,\n",
              " 'NE': 4}"
            ]
          },
          "metadata": {},
          "execution_count": 57
        }
      ],
      "metadata": {
        "colab": {
          "base_uri": "https://localhost:8080/"
        },
        "id": "j3w1p5R_bWhJ",
        "outputId": "84d9f158-c933-416e-8ca7-55b66c3357fc"
      }
    },
    {
      "cell_type": "markdown",
      "source": [
        "# Train test split"
      ],
      "metadata": {
        "id": "9d72ERXfEIXz"
      }
    },
    {
      "cell_type": "code",
      "execution_count": 58,
      "source": [
        "\r\n",
        "X = df.drop(columns=['RainTomorrow'])\r\n",
        "y = df['RainTomorrow']\r\n",
        "\r\n",
        "X"
      ],
      "outputs": [
        {
          "output_type": "execute_result",
          "data": {
            "text/html": [
              "<div>\n",
              "<style scoped>\n",
              "    .dataframe tbody tr th:only-of-type {\n",
              "        vertical-align: middle;\n",
              "    }\n",
              "\n",
              "    .dataframe tbody tr th {\n",
              "        vertical-align: top;\n",
              "    }\n",
              "\n",
              "    .dataframe thead th {\n",
              "        text-align: right;\n",
              "    }\n",
              "</style>\n",
              "<table border=\"1\" class=\"dataframe\">\n",
              "  <thead>\n",
              "    <tr style=\"text-align: right;\">\n",
              "      <th></th>\n",
              "      <th>MinTemp</th>\n",
              "      <th>MaxTemp</th>\n",
              "      <th>Rainfall</th>\n",
              "      <th>WindGustDir</th>\n",
              "      <th>WindGustSpeed</th>\n",
              "      <th>WindDir9am</th>\n",
              "      <th>WindDir3pm</th>\n",
              "      <th>WindSpeed9am</th>\n",
              "      <th>WindSpeed3pm</th>\n",
              "      <th>Humidity9am</th>\n",
              "      <th>Humidity3pm</th>\n",
              "      <th>Pressure9am</th>\n",
              "      <th>Pressure3pm</th>\n",
              "      <th>Cloud9am</th>\n",
              "      <th>Cloud3pm</th>\n",
              "      <th>Temp9am</th>\n",
              "      <th>Temp3pm</th>\n",
              "      <th>RainToday</th>\n",
              "    </tr>\n",
              "  </thead>\n",
              "  <tbody>\n",
              "    <tr>\n",
              "      <th>0</th>\n",
              "      <td>13.4</td>\n",
              "      <td>22.9</td>\n",
              "      <td>0.6</td>\n",
              "      <td>13</td>\n",
              "      <td>44.0</td>\n",
              "      <td>13</td>\n",
              "      <td>14</td>\n",
              "      <td>20.0</td>\n",
              "      <td>24.0</td>\n",
              "      <td>71.0</td>\n",
              "      <td>22.0</td>\n",
              "      <td>1007.7</td>\n",
              "      <td>1007.1</td>\n",
              "      <td>8.000000</td>\n",
              "      <td>4.503167</td>\n",
              "      <td>16.9</td>\n",
              "      <td>21.8</td>\n",
              "      <td>0</td>\n",
              "    </tr>\n",
              "    <tr>\n",
              "      <th>1</th>\n",
              "      <td>7.4</td>\n",
              "      <td>25.1</td>\n",
              "      <td>0.0</td>\n",
              "      <td>14</td>\n",
              "      <td>44.0</td>\n",
              "      <td>6</td>\n",
              "      <td>15</td>\n",
              "      <td>4.0</td>\n",
              "      <td>22.0</td>\n",
              "      <td>44.0</td>\n",
              "      <td>25.0</td>\n",
              "      <td>1010.6</td>\n",
              "      <td>1007.8</td>\n",
              "      <td>4.437189</td>\n",
              "      <td>4.503167</td>\n",
              "      <td>17.2</td>\n",
              "      <td>24.3</td>\n",
              "      <td>0</td>\n",
              "    </tr>\n",
              "    <tr>\n",
              "      <th>2</th>\n",
              "      <td>12.9</td>\n",
              "      <td>25.7</td>\n",
              "      <td>0.0</td>\n",
              "      <td>15</td>\n",
              "      <td>46.0</td>\n",
              "      <td>13</td>\n",
              "      <td>15</td>\n",
              "      <td>19.0</td>\n",
              "      <td>26.0</td>\n",
              "      <td>38.0</td>\n",
              "      <td>30.0</td>\n",
              "      <td>1007.6</td>\n",
              "      <td>1008.7</td>\n",
              "      <td>4.437189</td>\n",
              "      <td>2.000000</td>\n",
              "      <td>21.0</td>\n",
              "      <td>23.2</td>\n",
              "      <td>0</td>\n",
              "    </tr>\n",
              "    <tr>\n",
              "      <th>3</th>\n",
              "      <td>9.2</td>\n",
              "      <td>28.0</td>\n",
              "      <td>0.0</td>\n",
              "      <td>4</td>\n",
              "      <td>24.0</td>\n",
              "      <td>9</td>\n",
              "      <td>0</td>\n",
              "      <td>11.0</td>\n",
              "      <td>9.0</td>\n",
              "      <td>45.0</td>\n",
              "      <td>16.0</td>\n",
              "      <td>1017.6</td>\n",
              "      <td>1012.8</td>\n",
              "      <td>4.437189</td>\n",
              "      <td>4.503167</td>\n",
              "      <td>18.1</td>\n",
              "      <td>26.5</td>\n",
              "      <td>0</td>\n",
              "    </tr>\n",
              "    <tr>\n",
              "      <th>4</th>\n",
              "      <td>17.5</td>\n",
              "      <td>32.3</td>\n",
              "      <td>1.0</td>\n",
              "      <td>13</td>\n",
              "      <td>41.0</td>\n",
              "      <td>1</td>\n",
              "      <td>7</td>\n",
              "      <td>7.0</td>\n",
              "      <td>20.0</td>\n",
              "      <td>82.0</td>\n",
              "      <td>33.0</td>\n",
              "      <td>1010.8</td>\n",
              "      <td>1006.0</td>\n",
              "      <td>7.000000</td>\n",
              "      <td>8.000000</td>\n",
              "      <td>17.8</td>\n",
              "      <td>29.7</td>\n",
              "      <td>0</td>\n",
              "    </tr>\n",
              "    <tr>\n",
              "      <th>...</th>\n",
              "      <td>...</td>\n",
              "      <td>...</td>\n",
              "      <td>...</td>\n",
              "      <td>...</td>\n",
              "      <td>...</td>\n",
              "      <td>...</td>\n",
              "      <td>...</td>\n",
              "      <td>...</td>\n",
              "      <td>...</td>\n",
              "      <td>...</td>\n",
              "      <td>...</td>\n",
              "      <td>...</td>\n",
              "      <td>...</td>\n",
              "      <td>...</td>\n",
              "      <td>...</td>\n",
              "      <td>...</td>\n",
              "      <td>...</td>\n",
              "      <td>...</td>\n",
              "    </tr>\n",
              "    <tr>\n",
              "      <th>145454</th>\n",
              "      <td>3.5</td>\n",
              "      <td>21.8</td>\n",
              "      <td>0.0</td>\n",
              "      <td>0</td>\n",
              "      <td>31.0</td>\n",
              "      <td>2</td>\n",
              "      <td>0</td>\n",
              "      <td>15.0</td>\n",
              "      <td>13.0</td>\n",
              "      <td>59.0</td>\n",
              "      <td>27.0</td>\n",
              "      <td>1024.7</td>\n",
              "      <td>1021.2</td>\n",
              "      <td>4.437189</td>\n",
              "      <td>4.503167</td>\n",
              "      <td>9.4</td>\n",
              "      <td>20.9</td>\n",
              "      <td>0</td>\n",
              "    </tr>\n",
              "    <tr>\n",
              "      <th>145455</th>\n",
              "      <td>2.8</td>\n",
              "      <td>23.4</td>\n",
              "      <td>0.0</td>\n",
              "      <td>0</td>\n",
              "      <td>31.0</td>\n",
              "      <td>9</td>\n",
              "      <td>1</td>\n",
              "      <td>13.0</td>\n",
              "      <td>11.0</td>\n",
              "      <td>51.0</td>\n",
              "      <td>24.0</td>\n",
              "      <td>1024.6</td>\n",
              "      <td>1020.3</td>\n",
              "      <td>4.437189</td>\n",
              "      <td>4.503167</td>\n",
              "      <td>10.1</td>\n",
              "      <td>22.4</td>\n",
              "      <td>0</td>\n",
              "    </tr>\n",
              "    <tr>\n",
              "      <th>145456</th>\n",
              "      <td>3.6</td>\n",
              "      <td>25.3</td>\n",
              "      <td>0.0</td>\n",
              "      <td>6</td>\n",
              "      <td>22.0</td>\n",
              "      <td>9</td>\n",
              "      <td>3</td>\n",
              "      <td>13.0</td>\n",
              "      <td>9.0</td>\n",
              "      <td>56.0</td>\n",
              "      <td>21.0</td>\n",
              "      <td>1023.5</td>\n",
              "      <td>1019.1</td>\n",
              "      <td>4.437189</td>\n",
              "      <td>4.503167</td>\n",
              "      <td>10.9</td>\n",
              "      <td>24.5</td>\n",
              "      <td>0</td>\n",
              "    </tr>\n",
              "    <tr>\n",
              "      <th>145457</th>\n",
              "      <td>5.4</td>\n",
              "      <td>26.9</td>\n",
              "      <td>0.0</td>\n",
              "      <td>3</td>\n",
              "      <td>37.0</td>\n",
              "      <td>9</td>\n",
              "      <td>14</td>\n",
              "      <td>9.0</td>\n",
              "      <td>9.0</td>\n",
              "      <td>53.0</td>\n",
              "      <td>24.0</td>\n",
              "      <td>1021.0</td>\n",
              "      <td>1016.8</td>\n",
              "      <td>4.437189</td>\n",
              "      <td>4.503167</td>\n",
              "      <td>12.5</td>\n",
              "      <td>26.1</td>\n",
              "      <td>0</td>\n",
              "    </tr>\n",
              "    <tr>\n",
              "      <th>145458</th>\n",
              "      <td>7.8</td>\n",
              "      <td>27.0</td>\n",
              "      <td>0.0</td>\n",
              "      <td>9</td>\n",
              "      <td>28.0</td>\n",
              "      <td>10</td>\n",
              "      <td>3</td>\n",
              "      <td>13.0</td>\n",
              "      <td>7.0</td>\n",
              "      <td>51.0</td>\n",
              "      <td>24.0</td>\n",
              "      <td>1019.4</td>\n",
              "      <td>1016.5</td>\n",
              "      <td>3.000000</td>\n",
              "      <td>2.000000</td>\n",
              "      <td>15.1</td>\n",
              "      <td>26.0</td>\n",
              "      <td>0</td>\n",
              "    </tr>\n",
              "  </tbody>\n",
              "</table>\n",
              "<p>142193 rows × 18 columns</p>\n",
              "</div>"
            ],
            "text/plain": [
              "        MinTemp  MaxTemp  Rainfall  WindGustDir  WindGustSpeed  WindDir9am  \\\n",
              "0          13.4     22.9       0.6           13           44.0          13   \n",
              "1           7.4     25.1       0.0           14           44.0           6   \n",
              "2          12.9     25.7       0.0           15           46.0          13   \n",
              "3           9.2     28.0       0.0            4           24.0           9   \n",
              "4          17.5     32.3       1.0           13           41.0           1   \n",
              "...         ...      ...       ...          ...            ...         ...   \n",
              "145454      3.5     21.8       0.0            0           31.0           2   \n",
              "145455      2.8     23.4       0.0            0           31.0           9   \n",
              "145456      3.6     25.3       0.0            6           22.0           9   \n",
              "145457      5.4     26.9       0.0            3           37.0           9   \n",
              "145458      7.8     27.0       0.0            9           28.0          10   \n",
              "\n",
              "        WindDir3pm  WindSpeed9am  WindSpeed3pm  Humidity9am  Humidity3pm  \\\n",
              "0               14          20.0          24.0         71.0         22.0   \n",
              "1               15           4.0          22.0         44.0         25.0   \n",
              "2               15          19.0          26.0         38.0         30.0   \n",
              "3                0          11.0           9.0         45.0         16.0   \n",
              "4                7           7.0          20.0         82.0         33.0   \n",
              "...            ...           ...           ...          ...          ...   \n",
              "145454           0          15.0          13.0         59.0         27.0   \n",
              "145455           1          13.0          11.0         51.0         24.0   \n",
              "145456           3          13.0           9.0         56.0         21.0   \n",
              "145457          14           9.0           9.0         53.0         24.0   \n",
              "145458           3          13.0           7.0         51.0         24.0   \n",
              "\n",
              "        Pressure9am  Pressure3pm  Cloud9am  Cloud3pm  Temp9am  Temp3pm  \\\n",
              "0            1007.7       1007.1  8.000000  4.503167     16.9     21.8   \n",
              "1            1010.6       1007.8  4.437189  4.503167     17.2     24.3   \n",
              "2            1007.6       1008.7  4.437189  2.000000     21.0     23.2   \n",
              "3            1017.6       1012.8  4.437189  4.503167     18.1     26.5   \n",
              "4            1010.8       1006.0  7.000000  8.000000     17.8     29.7   \n",
              "...             ...          ...       ...       ...      ...      ...   \n",
              "145454       1024.7       1021.2  4.437189  4.503167      9.4     20.9   \n",
              "145455       1024.6       1020.3  4.437189  4.503167     10.1     22.4   \n",
              "145456       1023.5       1019.1  4.437189  4.503167     10.9     24.5   \n",
              "145457       1021.0       1016.8  4.437189  4.503167     12.5     26.1   \n",
              "145458       1019.4       1016.5  3.000000  2.000000     15.1     26.0   \n",
              "\n",
              "        RainToday  \n",
              "0               0  \n",
              "1               0  \n",
              "2               0  \n",
              "3               0  \n",
              "4               0  \n",
              "...           ...  \n",
              "145454          0  \n",
              "145455          0  \n",
              "145456          0  \n",
              "145457          0  \n",
              "145458          0  \n",
              "\n",
              "[142193 rows x 18 columns]"
            ]
          },
          "metadata": {},
          "execution_count": 58
        }
      ],
      "metadata": {
        "id": "pgaMmml8EIX0"
      }
    },
    {
      "cell_type": "code",
      "execution_count": 59,
      "source": [
        "x_train,x_test,y_train,y_test = train_test_split(X,y,test_size=0.33,shuffle=True,random_state=30)"
      ],
      "outputs": [],
      "metadata": {
        "id": "JoaW9SggEIX0"
      }
    },
    {
      "cell_type": "code",
      "execution_count": 60,
      "source": [
        "x_train.shape,x_test.shape,y_train.shape,y_test.shape"
      ],
      "outputs": [
        {
          "output_type": "execute_result",
          "data": {
            "text/plain": [
              "((95269, 18), (46924, 18), (95269,), (46924,))"
            ]
          },
          "metadata": {},
          "execution_count": 60
        }
      ],
      "metadata": {
        "id": "OS0k0xNTEIX0",
        "colab": {
          "base_uri": "https://localhost:8080/"
        },
        "outputId": "fc0980de-f9fb-460a-ab38-0c1f5fe14301"
      }
    },
    {
      "cell_type": "markdown",
      "source": [
        "# Model Creation"
      ],
      "metadata": {
        "id": "zqkPtS61EIX0"
      }
    },
    {
      "cell_type": "code",
      "execution_count": 51,
      "source": [
        "clf = DecisionTreeClassifier()"
      ],
      "outputs": [],
      "metadata": {
        "id": "NoN36Xp4cTAt"
      }
    },
    {
      "cell_type": "code",
      "execution_count": 52,
      "source": [
        "# clf.fit(x_train,y_train)"
      ],
      "outputs": [],
      "metadata": {
        "colab": {
          "base_uri": "https://localhost:8080/"
        },
        "id": "O1idqv9bcTIh",
        "outputId": "59275b37-4c09-4889-f7be-43036389caec"
      }
    },
    {
      "cell_type": "code",
      "execution_count": 53,
      "source": [
        "# y_pred =clf.predict(x_test)"
      ],
      "outputs": [],
      "metadata": {
        "id": "3F0t7ltGEIX1"
      }
    },
    {
      "cell_type": "code",
      "execution_count": 54,
      "source": [
        "# accuracy_score(y_test,y_pred)"
      ],
      "outputs": [],
      "metadata": {
        "id": "rDlfDLUeEIX1",
        "colab": {
          "base_uri": "https://localhost:8080/"
        },
        "outputId": "d5cb0208-ef14-40bb-8cc3-2dff88a8ee23"
      }
    },
    {
      "cell_type": "code",
      "execution_count": 55,
      "source": [
        "# confusion_matrix(y_test,y_pred)"
      ],
      "outputs": [],
      "metadata": {
        "id": "Ium8zXFsEIX1",
        "colab": {
          "base_uri": "https://localhost:8080/"
        },
        "outputId": "71f82564-982d-481c-f432-10093631b929"
      }
    },
    {
      "cell_type": "markdown",
      "source": [
        "## Random Forest"
      ],
      "metadata": {
        "id": "ftK0b2HpEIX1"
      }
    },
    {
      "cell_type": "code",
      "execution_count": 63,
      "source": [
        "random_forest = RandomForestClassifier(n_estimators = 40)"
      ],
      "outputs": [],
      "metadata": {
        "id": "v9X6LkQxEIX2"
      }
    },
    {
      "cell_type": "code",
      "execution_count": 64,
      "source": [
        "random_forest.fit(x_train,y_train)"
      ],
      "outputs": [
        {
          "output_type": "execute_result",
          "data": {
            "text/plain": [
              "RandomForestClassifier(n_estimators=40)"
            ]
          },
          "metadata": {},
          "execution_count": 64
        }
      ],
      "metadata": {
        "id": "PPpIlZbWEIX2",
        "colab": {
          "base_uri": "https://localhost:8080/"
        },
        "outputId": "7e346d45-6419-4bda-c7ba-003af99739a7"
      }
    },
    {
      "cell_type": "code",
      "execution_count": 65,
      "source": [
        "y_pred= random_forest.predict(x_test)"
      ],
      "outputs": [],
      "metadata": {
        "id": "0l_dDz0OEIX3"
      }
    },
    {
      "cell_type": "code",
      "execution_count": 69,
      "source": [
        "file=open(\"model.pkl\",\"wb\")\r\n",
        "pickle.dump(random_forest,file)\r\n",
        "file.close()"
      ],
      "outputs": [],
      "metadata": {}
    },
    {
      "cell_type": "code",
      "execution_count": 66,
      "source": [
        "accuracy_score(y_test,y_pred)\r\n"
      ],
      "outputs": [
        {
          "output_type": "execute_result",
          "data": {
            "text/plain": [
              "0.8500340976898815"
            ]
          },
          "metadata": {},
          "execution_count": 66
        }
      ],
      "metadata": {
        "id": "C_XhFWQOEIX3",
        "colab": {
          "base_uri": "https://localhost:8080/"
        },
        "outputId": "24aae61e-1558-4b9d-8618-5b57da238f2a"
      }
    },
    {
      "cell_type": "code",
      "execution_count": 68,
      "source": [],
      "outputs": [
        {
          "output_type": "error",
          "ename": "NameError",
          "evalue": "name 'sklearn' is not defined",
          "traceback": [
            "\u001b[1;31m---------------------------------------------------------------------------\u001b[0m",
            "\u001b[1;31mNameError\u001b[0m                                 Traceback (most recent call last)",
            "\u001b[1;32m~\\AppData\\Local\\Temp/ipykernel_2040/739573577.py\u001b[0m in \u001b[0;36m<module>\u001b[1;34m\u001b[0m\n\u001b[1;32m----> 1\u001b[1;33m \u001b[0msklearn\u001b[0m\u001b[1;33m.\u001b[0m\u001b[0m__version__\u001b[0m\u001b[1;33m\u001b[0m\u001b[1;33m\u001b[0m\u001b[0m\n\u001b[0m",
            "\u001b[1;31mNameError\u001b[0m: name 'sklearn' is not defined"
          ]
        }
      ],
      "metadata": {}
    },
    {
      "cell_type": "code",
      "execution_count": 57,
      "source": [
        "confusion_matrix(y_test,y_pred)"
      ],
      "outputs": [
        {
          "output_type": "execute_result",
          "data": {
            "text/plain": [
              "array([[34440,  1653],\n",
              "       [ 5240,  5127]], dtype=int64)"
            ]
          },
          "metadata": {},
          "execution_count": 57
        }
      ],
      "metadata": {
        "id": "OyemJL5cEIX3",
        "colab": {
          "base_uri": "https://localhost:8080/"
        },
        "outputId": "9c70b368-3e8f-4478-dd3b-fd191bc35d57"
      }
    },
    {
      "cell_type": "markdown",
      "source": [
        "## Normalize"
      ],
      "metadata": {
        "id": "v80uy3RRgM5M"
      }
    },
    {
      "cell_type": "code",
      "execution_count": 61,
      "source": [
        "\r\n",
        "df1 = copy.deepcopy(df)"
      ],
      "outputs": [],
      "metadata": {
        "id": "o9hQL-1zgPzp"
      }
    },
    {
      "cell_type": "code",
      "execution_count": 62,
      "source": [
        "df1.head()"
      ],
      "outputs": [
        {
          "output_type": "execute_result",
          "data": {
            "text/html": [
              "<div>\n",
              "<style scoped>\n",
              "    .dataframe tbody tr th:only-of-type {\n",
              "        vertical-align: middle;\n",
              "    }\n",
              "\n",
              "    .dataframe tbody tr th {\n",
              "        vertical-align: top;\n",
              "    }\n",
              "\n",
              "    .dataframe thead th {\n",
              "        text-align: right;\n",
              "    }\n",
              "</style>\n",
              "<table border=\"1\" class=\"dataframe\">\n",
              "  <thead>\n",
              "    <tr style=\"text-align: right;\">\n",
              "      <th></th>\n",
              "      <th>MinTemp</th>\n",
              "      <th>MaxTemp</th>\n",
              "      <th>Rainfall</th>\n",
              "      <th>WindGustDir</th>\n",
              "      <th>WindGustSpeed</th>\n",
              "      <th>WindDir9am</th>\n",
              "      <th>WindDir3pm</th>\n",
              "      <th>WindSpeed9am</th>\n",
              "      <th>WindSpeed3pm</th>\n",
              "      <th>Humidity9am</th>\n",
              "      <th>Humidity3pm</th>\n",
              "      <th>Pressure9am</th>\n",
              "      <th>Pressure3pm</th>\n",
              "      <th>Cloud9am</th>\n",
              "      <th>Cloud3pm</th>\n",
              "      <th>Temp9am</th>\n",
              "      <th>Temp3pm</th>\n",
              "      <th>RainToday</th>\n",
              "      <th>RainTomorrow</th>\n",
              "    </tr>\n",
              "  </thead>\n",
              "  <tbody>\n",
              "    <tr>\n",
              "      <th>0</th>\n",
              "      <td>13.4</td>\n",
              "      <td>22.9</td>\n",
              "      <td>0.6</td>\n",
              "      <td>13</td>\n",
              "      <td>44.0</td>\n",
              "      <td>13</td>\n",
              "      <td>14</td>\n",
              "      <td>20.0</td>\n",
              "      <td>24.0</td>\n",
              "      <td>71.0</td>\n",
              "      <td>22.0</td>\n",
              "      <td>1007.7</td>\n",
              "      <td>1007.1</td>\n",
              "      <td>8.000000</td>\n",
              "      <td>4.503167</td>\n",
              "      <td>16.9</td>\n",
              "      <td>21.8</td>\n",
              "      <td>0</td>\n",
              "      <td>0</td>\n",
              "    </tr>\n",
              "    <tr>\n",
              "      <th>1</th>\n",
              "      <td>7.4</td>\n",
              "      <td>25.1</td>\n",
              "      <td>0.0</td>\n",
              "      <td>14</td>\n",
              "      <td>44.0</td>\n",
              "      <td>6</td>\n",
              "      <td>15</td>\n",
              "      <td>4.0</td>\n",
              "      <td>22.0</td>\n",
              "      <td>44.0</td>\n",
              "      <td>25.0</td>\n",
              "      <td>1010.6</td>\n",
              "      <td>1007.8</td>\n",
              "      <td>4.437189</td>\n",
              "      <td>4.503167</td>\n",
              "      <td>17.2</td>\n",
              "      <td>24.3</td>\n",
              "      <td>0</td>\n",
              "      <td>0</td>\n",
              "    </tr>\n",
              "    <tr>\n",
              "      <th>2</th>\n",
              "      <td>12.9</td>\n",
              "      <td>25.7</td>\n",
              "      <td>0.0</td>\n",
              "      <td>15</td>\n",
              "      <td>46.0</td>\n",
              "      <td>13</td>\n",
              "      <td>15</td>\n",
              "      <td>19.0</td>\n",
              "      <td>26.0</td>\n",
              "      <td>38.0</td>\n",
              "      <td>30.0</td>\n",
              "      <td>1007.6</td>\n",
              "      <td>1008.7</td>\n",
              "      <td>4.437189</td>\n",
              "      <td>2.000000</td>\n",
              "      <td>21.0</td>\n",
              "      <td>23.2</td>\n",
              "      <td>0</td>\n",
              "      <td>0</td>\n",
              "    </tr>\n",
              "    <tr>\n",
              "      <th>3</th>\n",
              "      <td>9.2</td>\n",
              "      <td>28.0</td>\n",
              "      <td>0.0</td>\n",
              "      <td>4</td>\n",
              "      <td>24.0</td>\n",
              "      <td>9</td>\n",
              "      <td>0</td>\n",
              "      <td>11.0</td>\n",
              "      <td>9.0</td>\n",
              "      <td>45.0</td>\n",
              "      <td>16.0</td>\n",
              "      <td>1017.6</td>\n",
              "      <td>1012.8</td>\n",
              "      <td>4.437189</td>\n",
              "      <td>4.503167</td>\n",
              "      <td>18.1</td>\n",
              "      <td>26.5</td>\n",
              "      <td>0</td>\n",
              "      <td>0</td>\n",
              "    </tr>\n",
              "    <tr>\n",
              "      <th>4</th>\n",
              "      <td>17.5</td>\n",
              "      <td>32.3</td>\n",
              "      <td>1.0</td>\n",
              "      <td>13</td>\n",
              "      <td>41.0</td>\n",
              "      <td>1</td>\n",
              "      <td>7</td>\n",
              "      <td>7.0</td>\n",
              "      <td>20.0</td>\n",
              "      <td>82.0</td>\n",
              "      <td>33.0</td>\n",
              "      <td>1010.8</td>\n",
              "      <td>1006.0</td>\n",
              "      <td>7.000000</td>\n",
              "      <td>8.000000</td>\n",
              "      <td>17.8</td>\n",
              "      <td>29.7</td>\n",
              "      <td>0</td>\n",
              "      <td>0</td>\n",
              "    </tr>\n",
              "  </tbody>\n",
              "</table>\n",
              "</div>"
            ],
            "text/plain": [
              "   MinTemp  MaxTemp  Rainfall  WindGustDir  WindGustSpeed  WindDir9am  \\\n",
              "0     13.4     22.9       0.6           13           44.0          13   \n",
              "1      7.4     25.1       0.0           14           44.0           6   \n",
              "2     12.9     25.7       0.0           15           46.0          13   \n",
              "3      9.2     28.0       0.0            4           24.0           9   \n",
              "4     17.5     32.3       1.0           13           41.0           1   \n",
              "\n",
              "   WindDir3pm  WindSpeed9am  WindSpeed3pm  Humidity9am  Humidity3pm  \\\n",
              "0          14          20.0          24.0         71.0         22.0   \n",
              "1          15           4.0          22.0         44.0         25.0   \n",
              "2          15          19.0          26.0         38.0         30.0   \n",
              "3           0          11.0           9.0         45.0         16.0   \n",
              "4           7           7.0          20.0         82.0         33.0   \n",
              "\n",
              "   Pressure9am  Pressure3pm  Cloud9am  Cloud3pm  Temp9am  Temp3pm  RainToday  \\\n",
              "0       1007.7       1007.1  8.000000  4.503167     16.9     21.8          0   \n",
              "1       1010.6       1007.8  4.437189  4.503167     17.2     24.3          0   \n",
              "2       1007.6       1008.7  4.437189  2.000000     21.0     23.2          0   \n",
              "3       1017.6       1012.8  4.437189  4.503167     18.1     26.5          0   \n",
              "4       1010.8       1006.0  7.000000  8.000000     17.8     29.7          0   \n",
              "\n",
              "   RainTomorrow  \n",
              "0             0  \n",
              "1             0  \n",
              "2             0  \n",
              "3             0  \n",
              "4             0  "
            ]
          },
          "metadata": {},
          "execution_count": 62
        }
      ],
      "metadata": {
        "colab": {
          "base_uri": "https://localhost:8080/",
          "height": 220
        },
        "id": "PaLyhefIgP6k",
        "outputId": "3bc24582-e4e3-4650-e2b0-6d3ee4a9299e"
      }
    },
    {
      "cell_type": "code",
      "execution_count": 63,
      "source": [
        "fec = ['MinTemp','MaxTemp','Rainfall','WindGustSpeed','WindSpeed9am','WindSpeed3pm','Humidity9am','Humidity3pm','Pressure9am','Pressure3pm','Cloud9am','Cloud3pm','Temp9am','Temp3pm']\r\n",
        "\r\n"
      ],
      "outputs": [],
      "metadata": {
        "id": "Kmi81DE4gQDW"
      }
    },
    {
      "cell_type": "code",
      "execution_count": 64,
      "source": [
        "scaler = preprocessing.MinMaxScaler()"
      ],
      "outputs": [],
      "metadata": {
        "id": "uP1spAWek2W-"
      }
    },
    {
      "cell_type": "code",
      "execution_count": 65,
      "source": [
        "\r\n",
        "df1 = scaler.fit_transform(df1[['MinTemp','MaxTemp','Rainfall','WindGustSpeed','WindSpeed9am','WindSpeed3pm','Humidity9am','Humidity3pm','Pressure9am','Pressure3pm','Cloud9am','Cloud3pm','Temp9am','Temp3pm']])\r\n",
        "\r\n"
      ],
      "outputs": [],
      "metadata": {
        "id": "KrWc2ZQCgQKs"
      }
    },
    {
      "cell_type": "code",
      "execution_count": 66,
      "source": [
        "df1 = pd.DataFrame(df1, columns=fec)"
      ],
      "outputs": [],
      "metadata": {
        "id": "_lU3gBQ-nYjA"
      }
    },
    {
      "cell_type": "code",
      "execution_count": 67,
      "source": [
        "df1[['WindGustDir','WindDir9am','WindDir3pm','RainToday','RainTomorrow']] = df[['WindGustDir','WindDir9am','WindDir3pm','RainToday','RainTomorrow']]"
      ],
      "outputs": [],
      "metadata": {
        "id": "kv9oXWnxlhQq"
      }
    },
    {
      "cell_type": "code",
      "execution_count": 68,
      "source": [
        "df1"
      ],
      "outputs": [
        {
          "output_type": "execute_result",
          "data": {
            "text/html": [
              "<div>\n",
              "<style scoped>\n",
              "    .dataframe tbody tr th:only-of-type {\n",
              "        vertical-align: middle;\n",
              "    }\n",
              "\n",
              "    .dataframe tbody tr th {\n",
              "        vertical-align: top;\n",
              "    }\n",
              "\n",
              "    .dataframe thead th {\n",
              "        text-align: right;\n",
              "    }\n",
              "</style>\n",
              "<table border=\"1\" class=\"dataframe\">\n",
              "  <thead>\n",
              "    <tr style=\"text-align: right;\">\n",
              "      <th></th>\n",
              "      <th>MinTemp</th>\n",
              "      <th>MaxTemp</th>\n",
              "      <th>Rainfall</th>\n",
              "      <th>WindGustSpeed</th>\n",
              "      <th>WindSpeed9am</th>\n",
              "      <th>WindSpeed3pm</th>\n",
              "      <th>Humidity9am</th>\n",
              "      <th>Humidity3pm</th>\n",
              "      <th>Pressure9am</th>\n",
              "      <th>Pressure3pm</th>\n",
              "      <th>Cloud9am</th>\n",
              "      <th>Cloud3pm</th>\n",
              "      <th>Temp9am</th>\n",
              "      <th>Temp3pm</th>\n",
              "      <th>WindGustDir</th>\n",
              "      <th>WindDir9am</th>\n",
              "      <th>WindDir3pm</th>\n",
              "      <th>RainToday</th>\n",
              "      <th>RainTomorrow</th>\n",
              "    </tr>\n",
              "  </thead>\n",
              "  <tbody>\n",
              "    <tr>\n",
              "      <th>0</th>\n",
              "      <td>0.527322</td>\n",
              "      <td>0.497608</td>\n",
              "      <td>0.315789</td>\n",
              "      <td>0.569231</td>\n",
              "      <td>0.571429</td>\n",
              "      <td>0.615385</td>\n",
              "      <td>0.641975</td>\n",
              "      <td>0.22</td>\n",
              "      <td>0.227513</td>\n",
              "      <td>0.291005</td>\n",
              "      <td>0.888889</td>\n",
              "      <td>0.500352</td>\n",
              "      <td>0.497354</td>\n",
              "      <td>0.507732</td>\n",
              "      <td>13.0</td>\n",
              "      <td>13.0</td>\n",
              "      <td>14.0</td>\n",
              "      <td>0.0</td>\n",
              "      <td>0.0</td>\n",
              "    </tr>\n",
              "    <tr>\n",
              "      <th>1</th>\n",
              "      <td>0.363388</td>\n",
              "      <td>0.550239</td>\n",
              "      <td>0.000000</td>\n",
              "      <td>0.569231</td>\n",
              "      <td>0.114286</td>\n",
              "      <td>0.564103</td>\n",
              "      <td>0.308642</td>\n",
              "      <td>0.25</td>\n",
              "      <td>0.304233</td>\n",
              "      <td>0.309524</td>\n",
              "      <td>0.493021</td>\n",
              "      <td>0.500352</td>\n",
              "      <td>0.505291</td>\n",
              "      <td>0.572165</td>\n",
              "      <td>14.0</td>\n",
              "      <td>6.0</td>\n",
              "      <td>15.0</td>\n",
              "      <td>0.0</td>\n",
              "      <td>0.0</td>\n",
              "    </tr>\n",
              "    <tr>\n",
              "      <th>2</th>\n",
              "      <td>0.513661</td>\n",
              "      <td>0.564593</td>\n",
              "      <td>0.000000</td>\n",
              "      <td>0.600000</td>\n",
              "      <td>0.542857</td>\n",
              "      <td>0.666667</td>\n",
              "      <td>0.234568</td>\n",
              "      <td>0.30</td>\n",
              "      <td>0.224868</td>\n",
              "      <td>0.333333</td>\n",
              "      <td>0.493021</td>\n",
              "      <td>0.222222</td>\n",
              "      <td>0.605820</td>\n",
              "      <td>0.543814</td>\n",
              "      <td>15.0</td>\n",
              "      <td>13.0</td>\n",
              "      <td>15.0</td>\n",
              "      <td>0.0</td>\n",
              "      <td>0.0</td>\n",
              "    </tr>\n",
              "    <tr>\n",
              "      <th>3</th>\n",
              "      <td>0.412568</td>\n",
              "      <td>0.619617</td>\n",
              "      <td>0.000000</td>\n",
              "      <td>0.261538</td>\n",
              "      <td>0.314286</td>\n",
              "      <td>0.230769</td>\n",
              "      <td>0.320988</td>\n",
              "      <td>0.16</td>\n",
              "      <td>0.489418</td>\n",
              "      <td>0.441799</td>\n",
              "      <td>0.493021</td>\n",
              "      <td>0.500352</td>\n",
              "      <td>0.529101</td>\n",
              "      <td>0.628866</td>\n",
              "      <td>4.0</td>\n",
              "      <td>9.0</td>\n",
              "      <td>0.0</td>\n",
              "      <td>0.0</td>\n",
              "      <td>0.0</td>\n",
              "    </tr>\n",
              "    <tr>\n",
              "      <th>4</th>\n",
              "      <td>0.639344</td>\n",
              "      <td>0.722488</td>\n",
              "      <td>0.526316</td>\n",
              "      <td>0.523077</td>\n",
              "      <td>0.200000</td>\n",
              "      <td>0.512821</td>\n",
              "      <td>0.777778</td>\n",
              "      <td>0.33</td>\n",
              "      <td>0.309524</td>\n",
              "      <td>0.261905</td>\n",
              "      <td>0.777778</td>\n",
              "      <td>0.888889</td>\n",
              "      <td>0.521164</td>\n",
              "      <td>0.711340</td>\n",
              "      <td>13.0</td>\n",
              "      <td>1.0</td>\n",
              "      <td>7.0</td>\n",
              "      <td>0.0</td>\n",
              "      <td>0.0</td>\n",
              "    </tr>\n",
              "    <tr>\n",
              "      <th>...</th>\n",
              "      <td>...</td>\n",
              "      <td>...</td>\n",
              "      <td>...</td>\n",
              "      <td>...</td>\n",
              "      <td>...</td>\n",
              "      <td>...</td>\n",
              "      <td>...</td>\n",
              "      <td>...</td>\n",
              "      <td>...</td>\n",
              "      <td>...</td>\n",
              "      <td>...</td>\n",
              "      <td>...</td>\n",
              "      <td>...</td>\n",
              "      <td>...</td>\n",
              "      <td>...</td>\n",
              "      <td>...</td>\n",
              "      <td>...</td>\n",
              "      <td>...</td>\n",
              "      <td>...</td>\n",
              "    </tr>\n",
              "    <tr>\n",
              "      <th>140782</th>\n",
              "      <td>0.256831</td>\n",
              "      <td>0.471292</td>\n",
              "      <td>0.000000</td>\n",
              "      <td>0.369231</td>\n",
              "      <td>0.428571</td>\n",
              "      <td>0.333333</td>\n",
              "      <td>0.493827</td>\n",
              "      <td>0.27</td>\n",
              "      <td>0.677249</td>\n",
              "      <td>0.664021</td>\n",
              "      <td>0.493021</td>\n",
              "      <td>0.500352</td>\n",
              "      <td>0.298942</td>\n",
              "      <td>0.484536</td>\n",
              "      <td>0.0</td>\n",
              "      <td>2.0</td>\n",
              "      <td>2.0</td>\n",
              "      <td>0.0</td>\n",
              "      <td>0.0</td>\n",
              "    </tr>\n",
              "    <tr>\n",
              "      <th>140783</th>\n",
              "      <td>0.237705</td>\n",
              "      <td>0.509569</td>\n",
              "      <td>0.000000</td>\n",
              "      <td>0.369231</td>\n",
              "      <td>0.371429</td>\n",
              "      <td>0.282051</td>\n",
              "      <td>0.395062</td>\n",
              "      <td>0.24</td>\n",
              "      <td>0.674603</td>\n",
              "      <td>0.640212</td>\n",
              "      <td>0.493021</td>\n",
              "      <td>0.500352</td>\n",
              "      <td>0.317460</td>\n",
              "      <td>0.523196</td>\n",
              "      <td>0.0</td>\n",
              "      <td>0.0</td>\n",
              "      <td>1.0</td>\n",
              "      <td>0.0</td>\n",
              "      <td>0.0</td>\n",
              "    </tr>\n",
              "    <tr>\n",
              "      <th>140784</th>\n",
              "      <td>0.259563</td>\n",
              "      <td>0.555024</td>\n",
              "      <td>0.000000</td>\n",
              "      <td>0.230769</td>\n",
              "      <td>0.371429</td>\n",
              "      <td>0.230769</td>\n",
              "      <td>0.456790</td>\n",
              "      <td>0.21</td>\n",
              "      <td>0.645503</td>\n",
              "      <td>0.608466</td>\n",
              "      <td>0.493021</td>\n",
              "      <td>0.500352</td>\n",
              "      <td>0.338624</td>\n",
              "      <td>0.577320</td>\n",
              "      <td>2.0</td>\n",
              "      <td>0.0</td>\n",
              "      <td>7.0</td>\n",
              "      <td>0.0</td>\n",
              "      <td>0.0</td>\n",
              "    </tr>\n",
              "    <tr>\n",
              "      <th>140785</th>\n",
              "      <td>0.308743</td>\n",
              "      <td>0.593301</td>\n",
              "      <td>0.000000</td>\n",
              "      <td>0.461538</td>\n",
              "      <td>0.257143</td>\n",
              "      <td>0.230769</td>\n",
              "      <td>0.419753</td>\n",
              "      <td>0.24</td>\n",
              "      <td>0.579365</td>\n",
              "      <td>0.547619</td>\n",
              "      <td>0.493021</td>\n",
              "      <td>0.500352</td>\n",
              "      <td>0.380952</td>\n",
              "      <td>0.618557</td>\n",
              "      <td>9.0</td>\n",
              "      <td>4.0</td>\n",
              "      <td>14.0</td>\n",
              "      <td>0.0</td>\n",
              "      <td>0.0</td>\n",
              "    </tr>\n",
              "    <tr>\n",
              "      <th>140786</th>\n",
              "      <td>0.374317</td>\n",
              "      <td>0.595694</td>\n",
              "      <td>0.000000</td>\n",
              "      <td>0.323077</td>\n",
              "      <td>0.371429</td>\n",
              "      <td>0.179487</td>\n",
              "      <td>0.395062</td>\n",
              "      <td>0.24</td>\n",
              "      <td>0.537037</td>\n",
              "      <td>0.539683</td>\n",
              "      <td>0.333333</td>\n",
              "      <td>0.222222</td>\n",
              "      <td>0.449735</td>\n",
              "      <td>0.615979</td>\n",
              "      <td>9.0</td>\n",
              "      <td>2.0</td>\n",
              "      <td>0.0</td>\n",
              "      <td>0.0</td>\n",
              "      <td>0.0</td>\n",
              "    </tr>\n",
              "  </tbody>\n",
              "</table>\n",
              "<p>140787 rows × 19 columns</p>\n",
              "</div>"
            ],
            "text/plain": [
              "         MinTemp   MaxTemp  Rainfall  WindGustSpeed  WindSpeed9am  \\\n",
              "0       0.527322  0.497608  0.315789       0.569231      0.571429   \n",
              "1       0.363388  0.550239  0.000000       0.569231      0.114286   \n",
              "2       0.513661  0.564593  0.000000       0.600000      0.542857   \n",
              "3       0.412568  0.619617  0.000000       0.261538      0.314286   \n",
              "4       0.639344  0.722488  0.526316       0.523077      0.200000   \n",
              "...          ...       ...       ...            ...           ...   \n",
              "140782  0.256831  0.471292  0.000000       0.369231      0.428571   \n",
              "140783  0.237705  0.509569  0.000000       0.369231      0.371429   \n",
              "140784  0.259563  0.555024  0.000000       0.230769      0.371429   \n",
              "140785  0.308743  0.593301  0.000000       0.461538      0.257143   \n",
              "140786  0.374317  0.595694  0.000000       0.323077      0.371429   \n",
              "\n",
              "        WindSpeed3pm  Humidity9am  Humidity3pm  Pressure9am  Pressure3pm  \\\n",
              "0           0.615385     0.641975         0.22     0.227513     0.291005   \n",
              "1           0.564103     0.308642         0.25     0.304233     0.309524   \n",
              "2           0.666667     0.234568         0.30     0.224868     0.333333   \n",
              "3           0.230769     0.320988         0.16     0.489418     0.441799   \n",
              "4           0.512821     0.777778         0.33     0.309524     0.261905   \n",
              "...              ...          ...          ...          ...          ...   \n",
              "140782      0.333333     0.493827         0.27     0.677249     0.664021   \n",
              "140783      0.282051     0.395062         0.24     0.674603     0.640212   \n",
              "140784      0.230769     0.456790         0.21     0.645503     0.608466   \n",
              "140785      0.230769     0.419753         0.24     0.579365     0.547619   \n",
              "140786      0.179487     0.395062         0.24     0.537037     0.539683   \n",
              "\n",
              "        Cloud9am  Cloud3pm   Temp9am   Temp3pm  WindGustDir  WindDir9am  \\\n",
              "0       0.888889  0.500352  0.497354  0.507732         13.0        13.0   \n",
              "1       0.493021  0.500352  0.505291  0.572165         14.0         6.0   \n",
              "2       0.493021  0.222222  0.605820  0.543814         15.0        13.0   \n",
              "3       0.493021  0.500352  0.529101  0.628866          4.0         9.0   \n",
              "4       0.777778  0.888889  0.521164  0.711340         13.0         1.0   \n",
              "...          ...       ...       ...       ...          ...         ...   \n",
              "140782  0.493021  0.500352  0.298942  0.484536          0.0         2.0   \n",
              "140783  0.493021  0.500352  0.317460  0.523196          0.0         0.0   \n",
              "140784  0.493021  0.500352  0.338624  0.577320          2.0         0.0   \n",
              "140785  0.493021  0.500352  0.380952  0.618557          9.0         4.0   \n",
              "140786  0.333333  0.222222  0.449735  0.615979          9.0         2.0   \n",
              "\n",
              "        WindDir3pm  RainToday  RainTomorrow  \n",
              "0             14.0        0.0           0.0  \n",
              "1             15.0        0.0           0.0  \n",
              "2             15.0        0.0           0.0  \n",
              "3              0.0        0.0           0.0  \n",
              "4              7.0        0.0           0.0  \n",
              "...            ...        ...           ...  \n",
              "140782         2.0        0.0           0.0  \n",
              "140783         1.0        0.0           0.0  \n",
              "140784         7.0        0.0           0.0  \n",
              "140785        14.0        0.0           0.0  \n",
              "140786         0.0        0.0           0.0  \n",
              "\n",
              "[140787 rows x 19 columns]"
            ]
          },
          "metadata": {},
          "execution_count": 68
        }
      ],
      "metadata": {
        "colab": {
          "base_uri": "https://localhost:8080/",
          "height": 428
        },
        "id": "9T3Igrd8n9ii",
        "outputId": "a21bb0cd-c7b1-489f-b48a-22bfcb842cfd"
      }
    },
    {
      "cell_type": "markdown",
      "source": [
        "## KNN"
      ],
      "metadata": {
        "id": "Wkl3JMBwoe9G"
      }
    },
    {
      "cell_type": "code",
      "execution_count": 69,
      "source": [
        "\r\n",
        "# error_rate = []\r\n",
        "\r\n",
        "# for i in range(1,20):\r\n",
        "#     print(i)\r\n",
        "#     knn = KNeighborsClassifier(n_neighbors=i)\r\n",
        "#     knn.fit(x_train, y_train)\r\n",
        "#     pred = knn.predict(x_test)\r\n",
        "#     error_rate.append(np.mean(pred != y_test))\r\n",
        "\r\n"
      ],
      "outputs": [],
      "metadata": {
        "id": "2nXFgZQ7EIX5",
        "colab": {
          "base_uri": "https://localhost:8080/"
        },
        "outputId": "cd0c31a8-e1ca-405f-b3b7-51fbb42ef262"
      }
    },
    {
      "cell_type": "code",
      "execution_count": 70,
      "source": [
        "# plt.plot(range(1,20),error_rate)"
      ],
      "outputs": [],
      "metadata": {
        "id": "c9tTbqRoEIX5",
        "colab": {
          "base_uri": "https://localhost:8080/",
          "height": 283
        },
        "outputId": "143521f2-4e89-4aa6-adb7-0f83c43c7c8f"
      }
    },
    {
      "cell_type": "code",
      "execution_count": 71,
      "source": [
        "knn = KNeighborsClassifier(n_neighbors=20)\r\n",
        "knn.fit(x_train, y_train)\r\n",
        "pred = knn.predict(x_test)\r\n",
        "accuracy_score(y_test,pred)\r\n"
      ],
      "outputs": [
        {
          "output_type": "execute_result",
          "data": {
            "text/plain": [
              "0.8424881618596642"
            ]
          },
          "metadata": {},
          "execution_count": 71
        }
      ],
      "metadata": {
        "colab": {
          "base_uri": "https://localhost:8080/"
        },
        "id": "gbzKlOP8tZTe",
        "outputId": "19d377af-6cca-4c11-8939-61732029a8ca"
      }
    },
    {
      "cell_type": "markdown",
      "source": [
        "## Logistic Regression"
      ],
      "metadata": {
        "id": "26jUeE4qEIX6"
      }
    },
    {
      "cell_type": "code",
      "execution_count": 72,
      "source": [
        "\r\n",
        "logistic = LogisticRegression().fit(x_train,y_train)\r\n",
        "pred = logistic.predict(x_test)\r\n",
        "accuracy_score(y_test,pred)"
      ],
      "outputs": [
        {
          "output_type": "stream",
          "name": "stderr",
          "text": [
            "C:\\Users\\lenovo\\AppData\\Local\\Programs\\Python\\Python38\\lib\\site-packages\\sklearn\\linear_model\\_logistic.py:762: ConvergenceWarning: lbfgs failed to converge (status=1):\n",
            "STOP: TOTAL NO. of ITERATIONS REACHED LIMIT.\n",
            "\n",
            "Increase the number of iterations (max_iter) or scale the data as shown in:\n",
            "    https://scikit-learn.org/stable/modules/preprocessing.html\n",
            "Please also refer to the documentation for alternative solver options:\n",
            "    https://scikit-learn.org/stable/modules/linear_model.html#logistic-regression\n",
            "  n_iter_i = _check_optimize_result(\n"
          ]
        },
        {
          "output_type": "execute_result",
          "data": {
            "text/plain": [
              "0.8343090830822213"
            ]
          },
          "metadata": {},
          "execution_count": 72
        }
      ],
      "metadata": {
        "id": "j6RSuutmEIX6",
        "colab": {
          "base_uri": "https://localhost:8080/"
        },
        "outputId": "116462ea-d56a-4c74-aba9-c5511f87b991"
      }
    },
    {
      "cell_type": "markdown",
      "source": [
        "## SVM"
      ],
      "metadata": {
        "id": "JI1AUKLUEIX6"
      }
    },
    {
      "cell_type": "code",
      "execution_count": 73,
      "source": [
        "\r\n",
        "sv = svm.SVC()"
      ],
      "outputs": [],
      "metadata": {
        "id": "8_BLs6KVEIX7"
      }
    },
    {
      "cell_type": "code",
      "execution_count": 74,
      "source": [
        "sv.fit(x_train,y_train)\r\n"
      ],
      "outputs": [
        {
          "output_type": "execute_result",
          "data": {
            "text/plain": [
              "SVC()"
            ]
          },
          "metadata": {},
          "execution_count": 74
        }
      ],
      "metadata": {
        "id": "-HOJXvchEIX7",
        "colab": {
          "base_uri": "https://localhost:8080/"
        },
        "outputId": "3127bd86-e593-4308-aaaf-a03cd3b57608"
      }
    },
    {
      "cell_type": "code",
      "execution_count": 75,
      "source": [
        "pred = sv.predict(x_test)"
      ],
      "outputs": [],
      "metadata": {
        "id": "-eJ4IY1xEIX7"
      }
    },
    {
      "cell_type": "code",
      "execution_count": 76,
      "source": [
        "accuracy_score(y_test,pred)"
      ],
      "outputs": [
        {
          "output_type": "execute_result",
          "data": {
            "text/plain": [
              "0.8336633663366336"
            ]
          },
          "metadata": {},
          "execution_count": 76
        }
      ],
      "metadata": {
        "id": "Ka9vFUPTEIX7",
        "colab": {
          "base_uri": "https://localhost:8080/"
        },
        "outputId": "2e3ca0ef-dfd0-4143-aaa1-aa2b4192e9d9"
      }
    },
    {
      "cell_type": "code",
      "execution_count": null,
      "source": [],
      "outputs": [],
      "metadata": {
        "id": "Qdm7KuzsqpJV"
      }
    }
  ]
}